{
 "cells": [
  {
   "cell_type": "markdown",
   "metadata": {},
   "source": [
    "# 01_Basics.ipynb"
   ]
  },
  {
   "cell_type": "markdown",
   "metadata": {},
   "source": [
    "## Title: \"Setting Up and Basic Data Retrieval\""
   ]
  },
  {
   "cell_type": "markdown",
   "metadata": {},
   "source": [
    "### Contents:\n",
    "- Importing libraries.\n",
    "- Functions for data retrieval and flattening.\n",
    "- API requests to SEC for company data.\n",
    "- Data inspection and manipulation."
   ]
  },
  {
   "cell_type": "markdown",
   "metadata": {},
   "source": [
    "---"
   ]
  },
  {
   "cell_type": "markdown",
   "metadata": {},
   "source": [
    "```python\n",
    "# -*- coding: utf-8 -*-\n",
    "\"\"\"\n",
    "U.S. Securities and Exchange Commission (SEC) Scraper\n",
    "@author: ByteQuester\n",
    "\"\"\""
   ]
  },
  {
   "cell_type": "markdown",
   "metadata": {},
   "source": [
    "# Set Up the Environment"
   ]
  },
  {
   "cell_type": "markdown",
   "metadata": {},
   "source": [
    "## Import Libraries"
   ]
  },
  {
   "cell_type": "code",
   "execution_count": 1,
   "metadata": {},
   "outputs": [],
   "source": [
    "import pandas as pd\n",
    "import requests\n",
    "import matplotlib.pyplot as plt"
   ]
  },
  {
   "cell_type": "markdown",
   "metadata": {},
   "source": [
    "## Functions"
   ]
  },
  {
   "cell_type": "markdown",
   "metadata": {},
   "source": [
    "### Flattening Data"
   ]
  },
  {
   "cell_type": "code",
   "execution_count": 2,
   "metadata": {},
   "outputs": [],
   "source": [
    "def flatten_multiple_metrics(response_json, metric_names, unit='USD'):\n",
    "    \"\"\"\n",
    "    Flatten the data for multiple metrics and a specified unit from the SEC API response.\n",
    "\n",
    "    Parameters:\n",
    "    response_json (dict): The JSON response from the SEC API.\n",
    "    metric_names (list of str): The names of the metrics to flatten (e.g., ['NetIncomeLoss', 'Revenues']).\n",
    "    unit (str): The unit of the metrics (default is 'USD').\n",
    "\n",
    "    Returns:\n",
    "    pd.DataFrame: A DataFrame containing the flattened data for all specified metrics.\n",
    "    \"\"\"\n",
    "    all_flattened_data = []\n",
    "\n",
    "    for metric_name in metric_names:\n",
    "        metric_data = response_json.get('facts', {}).get('us-gaap', {}).get(metric_name, None)\n",
    "\n",
    "        if not metric_data or unit not in metric_data['units']:\n",
    "            continue  # Skip the metric if not found or if the unit is not present\n",
    "\n",
    "        flattened_data = [\n",
    "            {\n",
    "                'EntityName': response_json.get('entityName'),\n",
    "                'CIK': response_json.get('cik'),\n",
    "                'Metric': metric_name,\n",
    "                **item\n",
    "            }\n",
    "            for item in metric_data['units'][unit]\n",
    "        ]\n",
    "\n",
    "        all_flattened_data.extend(flattened_data)\n",
    "\n",
    "    return pd.DataFrame(all_flattened_data)\n",
    "    \n",
    "## # Example usage with multiple metrics\n",
    "# metrics = ['NetIncomeLoss', 'Revenues', 'OperatingIncomeLoss']\n",
    "# combined_df = flatten_multiple_metrics(response.json(), metrics)"
   ]
  },
  {
   "cell_type": "markdown",
   "metadata": {},
   "source": [
    "# Data Retrieval"
   ]
  },
  {
   "cell_type": "markdown",
   "metadata": {},
   "source": [
    "## Get All Companies Data"
   ]
  },
  {
   "cell_type": "code",
   "execution_count": 3,
   "metadata": {},
   "outputs": [
    {
     "name": "stdout",
     "output_type": "stream",
     "text": [
      "      cik_str ticker           title\n",
      "0  0000320193   AAPL      Apple Inc.\n",
      "1  0000789019   MSFT  MICROSOFT CORP\n",
      "2  0001652044  GOOGL   Alphabet Inc.\n",
      "3  0001018724   AMZN  AMAZON COM INC\n",
      "4  0001045810   NVDA     NVIDIA CORP\n"
     ]
    }
   ],
   "source": [
    "headers = {'User-Agent': 'YourName <your_email@example.com>'}\n",
    "companyTickers = requests.get(\"https://www.sec.gov/files/company_tickers.json\", headers=headers)\n",
    "companyData = pd.DataFrame.from_dict(companyTickers.json(), orient='index')\n",
    "companyData['cik_str'] = companyData['cik_str'].astype(str).str.zfill(10)\n",
    "print(companyData.head())"
   ]
  },
  {
   "cell_type": "markdown",
   "metadata": {},
   "source": [
    "## Retrieve Company Specific Filing Metadata"
   ]
  },
  {
   "cell_type": "code",
   "execution_count": 4,
   "metadata": {},
   "outputs": [
    {
     "name": "stdout",
     "output_type": "stream",
     "text": [
      "        accessionNumber  reportDate  form\n",
      "0  0000320193-23-000113  2023-11-29     4\n",
      "1  0000320193-23-000111  2023-11-16     4\n",
      "2  0000320193-23-000109  2023-11-10     4\n",
      "3  0000320193-23-000106  2023-09-30  10-K\n",
      "4  0000320193-23-000104  2023-11-02   8-K\n",
      "5  0000320193-23-000099  2023-10-15     4\n",
      "6  0000320193-23-000097  2023-10-06     4\n",
      "7  0000320193-23-000096  2023-10-06     4\n",
      "8  0001958244-23-001819               144\n",
      "9  0001958244-23-001817               144\n"
     ]
    }
   ],
   "source": [
    "cik = companyData.iloc[0]['cik_str']  # Example CIK, replace with desired company's CIK\n",
    "filingMetadata = requests.get(f'https://data.sec.gov/submissions/CIK{cik}.json', headers=headers)\n",
    "allForms = pd.DataFrame.from_dict(filingMetadata.json()['filings']['recent'])\n",
    "print(allForms[['accessionNumber', 'reportDate', 'form']].head(10))"
   ]
  },
  {
   "cell_type": "markdown",
   "metadata": {},
   "source": [
    "## Retrieve Company Facts Data"
   ]
  },
  {
   "cell_type": "code",
   "execution_count": 5,
   "metadata": {},
   "outputs": [],
   "source": [
    "cik='0000012927'"
   ]
  },
  {
   "cell_type": "code",
   "execution_count": 6,
   "metadata": {},
   "outputs": [
    {
     "name": "stdout",
     "output_type": "stream",
     "text": [
      "dict_keys(['cik', 'entityName', 'facts'])\n"
     ]
    }
   ],
   "source": [
    "companyFacts = requests.get(f'https://data.sec.gov/api/xbrl/companyfacts/CIK{cik}.json', headers=headers)\n",
    "print(companyFacts.json().keys())  # Display the keys to understand the structure"
   ]
  },
  {
   "cell_type": "markdown",
   "metadata": {},
   "source": [
    "## Retrieve Company Concept Data"
   ]
  },
  {
   "cell_type": "code",
   "execution_count": 7,
   "metadata": {},
   "outputs": [],
   "source": [
    "companyConcept = requests.get(f'https://data.sec.gov/api/xbrl/companyconcept/CIK{cik}/us-gaap/Assets.json', headers=headers)\n",
    "assetsData = pd.DataFrame.from_dict(companyConcept.json()['units']['USD'])\n",
    "assets10Q = assetsData[assetsData.form == '10-Q'].reset_index(drop=True)"
   ]
  },
  {
   "cell_type": "markdown",
   "metadata": {},
   "source": [
    "## Save Data for Analysis "
   ]
  },
  {
   "cell_type": "code",
   "execution_count": 8,
   "metadata": {},
   "outputs": [],
   "source": [
    "# change these metrics for subsequent notebooks and further analysis\n",
    "#metrics = ['Revenues', 'PropertyPlantAndEquipmentNet']\n",
    "#metrics = ['CapitalExpendituresIncurredButNotYetPaid', 'NetIncomeLoss', 'Assets'] # Investment Efficiency\n",
    "#metrics = ['AssetsCurrent', 'LiabilitiesCurrent'] # Liquidity\n",
    "#metrics = ['Assets', 'Liabilities', 'StockholdersEquity'] # Assets and Liabilities\n",
    "#metrics = ['OperatingIncomeLoss', 'Revenues', 'NetIncomeLoss'] # Profitability\n",
    "metrics = ['NetCashProvidedByUsedInOperatingActivities', 'NetCashProvidedByUsedInInvestingActivities', 'NetCashProvidedByUsedInFinancingActivities'] # Cash Flow "
   ]
  },
  {
   "cell_type": "code",
   "execution_count": 9,
   "metadata": {},
   "outputs": [],
   "source": [
    "combined_df = flatten_multiple_metrics(companyFacts.json(), metrics)"
   ]
  },
  {
   "cell_type": "code",
   "execution_count": 10,
   "metadata": {},
   "outputs": [],
   "source": [
    "combined_df.to_csv('combined_df.csv', index=False)"
   ]
  },
  {
   "cell_type": "markdown",
   "metadata": {},
   "source": [
    "# Data Visualization"
   ]
  },
  {
   "cell_type": "markdown",
   "metadata": {},
   "source": [
    "## Plotting Assets Over Time from 10-Q Forms"
   ]
  },
  {
   "cell_type": "code",
   "execution_count": 11,
   "metadata": {},
   "outputs": [
    {
     "data": {
      "image/png": "[encoded data removed]",
      "text/plain": [
       "<Figure size 640x480 with 1 Axes>"
      ]
     },
     "metadata": {},
     "output_type": "display_data"
    }
   ],
   "source": [
    "assets10Q.plot(x='end', y='val', title='10-Q Assets Over Time')\n",
    "plt.show()"
   ]
  },
  {
   "cell_type": "markdown",
   "metadata": {},
   "source": [
    "# Conclusion and Next Steps"
   ]
  },
  {
   "cell_type": "raw",
   "metadata": {},
   "source": [
    "- This notebook covered comprehensive data retrieval from SEC filings, including company tickers, filing metadata, company facts, and specific financial concepts.\n",
    "- The next steps will involve deeper data analysis, cross-referencing with SQL query outputs, and more advanced visualizations.\n",
    "- Subsequent notebooks will focus on specific financial analyses like profitability, liquidity, debt management, etc."
   ]
  }
 ],
 "metadata": {
  "kernelspec": {
   "display_name": "Python 3 (ipykernel)",
   "language": "python",
   "name": "python3"
  },
  "language_info": {
   "codemirror_mode": {
    "name": "ipython",
    "version": 3
   },
   "file_extension": ".py",
   "mimetype": "text/x-python",
   "name": "python",
   "nbconvert_exporter": "python",
   "pygments_lexer": "ipython3",
   "version": "3.11.6"
  }
 },
 "nbformat": 4,
 "nbformat_minor": 4
}
