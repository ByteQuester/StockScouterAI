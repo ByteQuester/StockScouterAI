{
 "cells": [
  {
   "cell_type": "markdown",
   "id": "645f7f19-4820-48f6-9c48-c6680ef21474",
   "metadata": {
    "jp-MarkdownHeadingCollapsed": true
   },
   "source": [
    "# 04_Liquidity_Assessment.ipynb"
   ]
  },
  {
   "cell_type": "markdown",
   "id": "1b528acd-813f-438e-af94-6d37e98a7e4e",
   "metadata": {},
   "source": [
    "## Title: \"Liquidity Analysis\""
   ]
  },
  {
   "cell_type": "markdown",
   "id": "4c68e4b6-02e6-4f7f-bc98-b57c7595c604",
   "metadata": {},
   "source": [
    "### Contents:\n",
    "\n",
    "- Liquidity metrics exploration from SEC data.\n",
    "- Cross-checking with liquidity_query.sql.\n",
    "- Computing liquidity ratios.\n",
    "- Visualizing cash flow and liquidity trends."
   ]
  },
  {
   "cell_type": "markdown",
   "id": "39b005c6-3ee2-41ad-91a1-9d241660f870",
   "metadata": {},
   "source": [
    "---"
   ]
  },
  {
   "cell_type": "markdown",
   "id": "742170c6-3012-4827-aa74-310b498d23aa",
   "metadata": {},
   "source": [
    "# Set Up the Environment"
   ]
  },
  {
   "cell_type": "markdown",
   "id": "5e6b38cc-c136-412f-b12e-67141d0676b9",
   "metadata": {},
   "source": [
    "## Import Libraries"
   ]
  },
  {
   "cell_type": "code",
   "execution_count": 1,
   "id": "67ca6750-7217-4be1-978a-1a433b759c54",
   "metadata": {},
   "outputs": [],
   "source": [
    "import pandas as pd\n",
    "import matplotlib.pyplot as plt"
   ]
  },
  {
   "cell_type": "markdown",
   "id": "cf26d2db-597b-4c03-8acf-94fe6fd2c7a3",
   "metadata": {},
   "source": [
    "## Functions"
   ]
  },
  {
   "cell_type": "code",
   "execution_count": 2,
   "id": "0edf7aaf-b9e7-4acd-8e09-70def5e11664",
   "metadata": {},
   "outputs": [],
   "source": [
    "from prepare_and_sort_data_quarterly import prepare_and_sort_financial_data"
   ]
  },
  {
   "cell_type": "markdown",
   "id": "7e6ffad5-7e1a-4d4b-ad7e-e63abc599b8a",
   "metadata": {},
   "source": [
    "# Load Data"
   ]
  },
  {
   "cell_type": "markdown",
   "id": "bbf50fa0-70c4-4f31-8933-7dca009c7810",
   "metadata": {},
   "source": [
    "## Load Data from CSV File"
   ]
  },
  {
   "cell_type": "code",
   "execution_count": 3,
   "id": "17da640e-aa9a-4081-98e6-9166746159dd",
   "metadata": {},
   "outputs": [],
   "source": [
    "raw_data = pd.read_csv('combined_df.csv')"
   ]
  },
  {
   "cell_type": "code",
   "execution_count": 4,
   "id": "2da40aa2-7091-4fd4-9d72-28feb1eb4206",
   "metadata": {},
   "outputs": [
    {
     "data": {
      "text/html": [
       "<div>\n",
       "<style scoped>\n",
       "    .dataframe tbody tr th:only-of-type {\n",
       "        vertical-align: middle;\n",
       "    }\n",
       "\n",
       "    .dataframe tbody tr th {\n",
       "        vertical-align: top;\n",
       "    }\n",
       "\n",
       "    .dataframe thead th {\n",
       "        text-align: right;\n",
       "    }\n",
       "</style>\n",
       "<table border=\"1\" class=\"dataframe\">\n",
       "  <thead>\n",
       "    <tr style=\"text-align: right;\">\n",
       "      <th></th>\n",
       "      <th>EntityName</th>\n",
       "      <th>CIK</th>\n",
       "      <th>Metric</th>\n",
       "      <th>end</th>\n",
       "      <th>val</th>\n",
       "      <th>accn</th>\n",
       "      <th>fy</th>\n",
       "      <th>fp</th>\n",
       "      <th>form</th>\n",
       "      <th>filed</th>\n",
       "      <th>frame</th>\n",
       "    </tr>\n",
       "  </thead>\n",
       "  <tbody>\n",
       "    <tr>\n",
       "      <th>0</th>\n",
       "      <td>THE BOEING COMPANY</td>\n",
       "      <td>12927</td>\n",
       "      <td>AssetsCurrent</td>\n",
       "      <td>2008-12-31</td>\n",
       "      <td>25964000000</td>\n",
       "      <td>0001193125-09-152905</td>\n",
       "      <td>2009</td>\n",
       "      <td>Q2</td>\n",
       "      <td>10-Q</td>\n",
       "      <td>2009-07-22</td>\n",
       "      <td>NaN</td>\n",
       "    </tr>\n",
       "    <tr>\n",
       "      <th>1</th>\n",
       "      <td>THE BOEING COMPANY</td>\n",
       "      <td>12927</td>\n",
       "      <td>AssetsCurrent</td>\n",
       "      <td>2008-12-31</td>\n",
       "      <td>25964000000</td>\n",
       "      <td>0001193125-09-210918</td>\n",
       "      <td>2009</td>\n",
       "      <td>Q3</td>\n",
       "      <td>10-Q</td>\n",
       "      <td>2009-10-21</td>\n",
       "      <td>NaN</td>\n",
       "    </tr>\n",
       "  </tbody>\n",
       "</table>\n",
       "</div>"
      ],
      "text/plain": [
       "           EntityName    CIK         Metric         end          val  \\\n",
       "0  THE BOEING COMPANY  12927  AssetsCurrent  2008-12-31  25964000000   \n",
       "1  THE BOEING COMPANY  12927  AssetsCurrent  2008-12-31  25964000000   \n",
       "\n",
       "                   accn    fy  fp  form       filed frame  \n",
       "0  0001193125-09-152905  2009  Q2  10-Q  2009-07-22   NaN  \n",
       "1  0001193125-09-210918  2009  Q3  10-Q  2009-10-21   NaN  "
      ]
     },
     "execution_count": 4,
     "metadata": {},
     "output_type": "execute_result"
    }
   ],
   "source": [
    "# Inspect the first few rows of the dataset\n",
    "raw_data.head(2)"
   ]
  },
  {
   "cell_type": "code",
   "execution_count": 5,
   "id": "77c4cd58-2314-4159-9285-e7e5cd74024e",
   "metadata": {},
   "outputs": [],
   "source": [
    "# Convert 'end' column to datetime for proper sorting\n",
    "raw_data['end'] = pd.to_datetime(raw_data['end'], format='%Y-%m-%d')\n"
   ]
  },
  {
   "cell_type": "code",
   "execution_count": 6,
   "id": "c86d3812-3223-469f-8e48-7e3aab83abfb",
   "metadata": {},
   "outputs": [
    {
     "name": "stdout",
     "output_type": "stream",
     "text": [
      "<class 'pandas.core.frame.DataFrame'>\n",
      "RangeIndex: 232 entries, 0 to 231\n",
      "Data columns (total 11 columns):\n",
      " #   Column      Non-Null Count  Dtype         \n",
      "---  ------      --------------  -----         \n",
      " 0   EntityName  232 non-null    object        \n",
      " 1   CIK         232 non-null    int64         \n",
      " 2   Metric      232 non-null    object        \n",
      " 3   end         232 non-null    datetime64[ns]\n",
      " 4   val         232 non-null    int64         \n",
      " 5   accn        232 non-null    object        \n",
      " 6   fy          232 non-null    int64         \n",
      " 7   fp          232 non-null    object        \n",
      " 8   form        232 non-null    object        \n",
      " 9   filed       232 non-null    object        \n",
      " 10  frame       118 non-null    object        \n",
      "dtypes: datetime64[ns](1), int64(3), object(7)\n",
      "memory usage: 20.1+ KB\n"
     ]
    }
   ],
   "source": [
    "# Check the data types and look for any missing values\n",
    "raw_data.info()"
   ]
  },
  {
   "cell_type": "markdown",
   "id": "5d4da628-9f6a-4f82-8007-f6dfbc576111",
   "metadata": {},
   "source": [
    "# Individual Metrics Analysis"
   ]
  },
  {
   "cell_type": "markdown",
   "id": "bb139a91-ca7e-47e7-9d3a-1e4e1ecb0b42",
   "metadata": {},
   "source": [
    "## Analysis of AssetsCurrent"
   ]
  },
  {
   "cell_type": "code",
   "execution_count": 7,
   "id": "2e6284c1-20dc-413a-b050-87e1fdcb753a",
   "metadata": {},
   "outputs": [],
   "source": [
    "# Filter out the Assets\n",
    "assets = raw_data[raw_data['Metric'] == 'AssetsCurrent']"
   ]
  },
  {
   "cell_type": "code",
   "execution_count": 8,
   "id": "4d3490e9-1f80-4170-9ace-21696aca6399",
   "metadata": {},
   "outputs": [],
   "source": [
    "assets_data = prepare_and_sort_financial_data(raw_data, 'AssetsCurrent')"
   ]
  },
  {
   "cell_type": "code",
   "execution_count": 9,
   "id": "238c75fa-324d-4f7e-a3d2-86eaf2d4eb0b",
   "metadata": {},
   "outputs": [
    {
     "data": {
      "text/html": [
       "<div>\n",
       "<style scoped>\n",
       "    .dataframe tbody tr th:only-of-type {\n",
       "        vertical-align: middle;\n",
       "    }\n",
       "\n",
       "    .dataframe tbody tr th {\n",
       "        vertical-align: top;\n",
       "    }\n",
       "\n",
       "    .dataframe thead th {\n",
       "        text-align: right;\n",
       "    }\n",
       "</style>\n",
       "<table border=\"1\" class=\"dataframe\">\n",
       "  <thead>\n",
       "    <tr style=\"text-align: right;\">\n",
       "      <th></th>\n",
       "      <th>EntityName</th>\n",
       "      <th>CIK</th>\n",
       "      <th>Metric</th>\n",
       "      <th>end</th>\n",
       "      <th>val</th>\n",
       "      <th>year</th>\n",
       "      <th>quarter</th>\n",
       "    </tr>\n",
       "  </thead>\n",
       "  <tbody>\n",
       "    <tr>\n",
       "      <th>2</th>\n",
       "      <td>THE BOEING COMPANY</td>\n",
       "      <td>12927</td>\n",
       "      <td>AssetsCurrent</td>\n",
       "      <td>2008-12-31</td>\n",
       "      <td>25964000000</td>\n",
       "      <td>2008</td>\n",
       "      <td>Q4</td>\n",
       "    </tr>\n",
       "    <tr>\n",
       "      <th>3</th>\n",
       "      <td>THE BOEING COMPANY</td>\n",
       "      <td>12927</td>\n",
       "      <td>AssetsCurrent</td>\n",
       "      <td>2009-06-30</td>\n",
       "      <td>30120000000</td>\n",
       "      <td>2009</td>\n",
       "      <td>Q2</td>\n",
       "    </tr>\n",
       "    <tr>\n",
       "      <th>4</th>\n",
       "      <td>THE BOEING COMPANY</td>\n",
       "      <td>12927</td>\n",
       "      <td>AssetsCurrent</td>\n",
       "      <td>2009-09-30</td>\n",
       "      <td>30227000000</td>\n",
       "      <td>2009</td>\n",
       "      <td>Q3</td>\n",
       "    </tr>\n",
       "    <tr>\n",
       "      <th>9</th>\n",
       "      <td>THE BOEING COMPANY</td>\n",
       "      <td>12927</td>\n",
       "      <td>AssetsCurrent</td>\n",
       "      <td>2009-12-31</td>\n",
       "      <td>35275000000</td>\n",
       "      <td>2009</td>\n",
       "      <td>Q4</td>\n",
       "    </tr>\n",
       "    <tr>\n",
       "      <th>10</th>\n",
       "      <td>THE BOEING COMPANY</td>\n",
       "      <td>12927</td>\n",
       "      <td>AssetsCurrent</td>\n",
       "      <td>2010-03-31</td>\n",
       "      <td>36798000000</td>\n",
       "      <td>2010</td>\n",
       "      <td>Q1</td>\n",
       "    </tr>\n",
       "  </tbody>\n",
       "</table>\n",
       "</div>"
      ],
      "text/plain": [
       "            EntityName    CIK         Metric        end          val  year  \\\n",
       "2   THE BOEING COMPANY  12927  AssetsCurrent 2008-12-31  25964000000  2008   \n",
       "3   THE BOEING COMPANY  12927  AssetsCurrent 2009-06-30  30120000000  2009   \n",
       "4   THE BOEING COMPANY  12927  AssetsCurrent 2009-09-30  30227000000  2009   \n",
       "9   THE BOEING COMPANY  12927  AssetsCurrent 2009-12-31  35275000000  2009   \n",
       "10  THE BOEING COMPANY  12927  AssetsCurrent 2010-03-31  36798000000  2010   \n",
       "\n",
       "   quarter  \n",
       "2       Q4  \n",
       "3       Q2  \n",
       "4       Q3  \n",
       "9       Q4  \n",
       "10      Q1  "
      ]
     },
     "execution_count": 9,
     "metadata": {},
     "output_type": "execute_result"
    }
   ],
   "source": [
    "assets_data.head(5)"
   ]
  },
  {
   "cell_type": "code",
   "execution_count": 10,
   "id": "57493903-4d26-452d-9a65-601d6a9f9b18",
   "metadata": {},
   "outputs": [
    {
     "name": "stdout",
     "output_type": "stream",
     "text": [
      "           CIK                            end           val\n",
      "count     59.0                             59  5.900000e+01\n",
      "mean   12927.0  2016-06-28 15:51:51.864406784  7.510580e+10\n",
      "min    12927.0            2008-12-31 00:00:00  2.596400e+10\n",
      "25%    12927.0            2012-11-15 00:00:00  5.554350e+10\n",
      "50%    12927.0            2016-06-30 00:00:00  6.558700e+10\n",
      "75%    12927.0            2020-02-14 12:00:00  1.041145e+11\n",
      "max    12927.0            2023-09-30 00:00:00  1.310120e+11\n",
      "std        0.0                            NaN  2.867928e+10\n"
     ]
    }
   ],
   "source": [
    "print(assets_data.describe())"
   ]
  },
  {
   "cell_type": "code",
   "execution_count": 11,
   "id": "2761052e-d62c-4a2e-96f1-e30db39c0979",
   "metadata": {},
   "outputs": [
    {
     "data": {
      "image/png": "[encoded data removed]",
      "text/plain": [
       "<Figure size 640x480 with 1 Axes>"
      ]
     },
     "metadata": {},
     "output_type": "display_data"
    }
   ],
   "source": [
    "assets_data.plot(x='end', y='val', title='Assets Over Time')\n",
    "plt.show()"
   ]
  },
  {
   "cell_type": "markdown",
   "id": "56f348b6-6528-4f3c-8f02-76d95b1bc8dd",
   "metadata": {},
   "source": [
    "## Analysis of LiabilitiesCurrent"
   ]
  },
  {
   "cell_type": "code",
   "execution_count": 12,
   "id": "e8c3d4a7-02df-443d-b680-748e73edbcc7",
   "metadata": {},
   "outputs": [],
   "source": [
    "# Filter out the Liabilities data\n",
    "liabilities = raw_data[raw_data['Metric'] == 'LiabilitiesCurrent']"
   ]
  },
  {
   "cell_type": "code",
   "execution_count": 13,
   "id": "68f3bce9-bad4-4e4f-80e0-01cf76f0665d",
   "metadata": {},
   "outputs": [],
   "source": [
    "liabilities_data = prepare_and_sort_financial_data(raw_data, 'LiabilitiesCurrent')"
   ]
  },
  {
   "cell_type": "code",
   "execution_count": 14,
   "id": "4a6e170b-0e5e-4ecb-99b9-800647193d10",
   "metadata": {},
   "outputs": [
    {
     "data": {
      "text/html": [
       "<div>\n",
       "<style scoped>\n",
       "    .dataframe tbody tr th:only-of-type {\n",
       "        vertical-align: middle;\n",
       "    }\n",
       "\n",
       "    .dataframe tbody tr th {\n",
       "        vertical-align: top;\n",
       "    }\n",
       "\n",
       "    .dataframe thead th {\n",
       "        text-align: right;\n",
       "    }\n",
       "</style>\n",
       "<table border=\"1\" class=\"dataframe\">\n",
       "  <thead>\n",
       "    <tr style=\"text-align: right;\">\n",
       "      <th></th>\n",
       "      <th>EntityName</th>\n",
       "      <th>CIK</th>\n",
       "      <th>Metric</th>\n",
       "      <th>end</th>\n",
       "      <th>val</th>\n",
       "      <th>year</th>\n",
       "      <th>quarter</th>\n",
       "    </tr>\n",
       "  </thead>\n",
       "  <tbody>\n",
       "    <tr>\n",
       "      <th>118</th>\n",
       "      <td>THE BOEING COMPANY</td>\n",
       "      <td>12927</td>\n",
       "      <td>LiabilitiesCurrent</td>\n",
       "      <td>2008-12-31</td>\n",
       "      <td>30773000000</td>\n",
       "      <td>2008</td>\n",
       "      <td>Q4</td>\n",
       "    </tr>\n",
       "    <tr>\n",
       "      <th>119</th>\n",
       "      <td>THE BOEING COMPANY</td>\n",
       "      <td>12927</td>\n",
       "      <td>LiabilitiesCurrent</td>\n",
       "      <td>2009-06-30</td>\n",
       "      <td>31272000000</td>\n",
       "      <td>2009</td>\n",
       "      <td>Q2</td>\n",
       "    </tr>\n",
       "    <tr>\n",
       "      <th>120</th>\n",
       "      <td>THE BOEING COMPANY</td>\n",
       "      <td>12927</td>\n",
       "      <td>LiabilitiesCurrent</td>\n",
       "      <td>2009-09-30</td>\n",
       "      <td>32049000000</td>\n",
       "      <td>2009</td>\n",
       "      <td>Q3</td>\n",
       "    </tr>\n",
       "    <tr>\n",
       "      <th>125</th>\n",
       "      <td>THE BOEING COMPANY</td>\n",
       "      <td>12927</td>\n",
       "      <td>LiabilitiesCurrent</td>\n",
       "      <td>2009-12-31</td>\n",
       "      <td>32883000000</td>\n",
       "      <td>2009</td>\n",
       "      <td>Q4</td>\n",
       "    </tr>\n",
       "    <tr>\n",
       "      <th>126</th>\n",
       "      <td>THE BOEING COMPANY</td>\n",
       "      <td>12927</td>\n",
       "      <td>LiabilitiesCurrent</td>\n",
       "      <td>2010-03-31</td>\n",
       "      <td>33484000000</td>\n",
       "      <td>2010</td>\n",
       "      <td>Q1</td>\n",
       "    </tr>\n",
       "  </tbody>\n",
       "</table>\n",
       "</div>"
      ],
      "text/plain": [
       "             EntityName    CIK              Metric        end          val  \\\n",
       "118  THE BOEING COMPANY  12927  LiabilitiesCurrent 2008-12-31  30773000000   \n",
       "119  THE BOEING COMPANY  12927  LiabilitiesCurrent 2009-06-30  31272000000   \n",
       "120  THE BOEING COMPANY  12927  LiabilitiesCurrent 2009-09-30  32049000000   \n",
       "125  THE BOEING COMPANY  12927  LiabilitiesCurrent 2009-12-31  32883000000   \n",
       "126  THE BOEING COMPANY  12927  LiabilitiesCurrent 2010-03-31  33484000000   \n",
       "\n",
       "     year quarter  \n",
       "118  2008      Q4  \n",
       "119  2009      Q2  \n",
       "120  2009      Q3  \n",
       "125  2009      Q4  \n",
       "126  2010      Q1  "
      ]
     },
     "execution_count": 14,
     "metadata": {},
     "output_type": "execute_result"
    }
   ],
   "source": [
    "liabilities_data.head(5)"
   ]
  },
  {
   "cell_type": "code",
   "execution_count": 15,
   "id": "5ecb54bb-9685-4935-922b-1ac314072598",
   "metadata": {},
   "outputs": [
    {
     "name": "stdout",
     "output_type": "stream",
     "text": [
      "           CIK                            end           val\n",
      "count     59.0                             59  5.900000e+01\n",
      "mean   12927.0  2016-06-28 15:51:51.864406784  6.195198e+10\n",
      "min    12927.0            2008-12-31 00:00:00  3.077300e+10\n",
      "25%    12927.0            2012-11-15 00:00:00  4.391700e+10\n",
      "50%    12927.0            2016-06-30 00:00:00  5.320400e+10\n",
      "75%    12927.0            2020-02-14 12:00:00  8.528500e+10\n",
      "max    12927.0            2023-09-30 00:00:00  9.731200e+10\n",
      "std        0.0                            NaN  2.234544e+10\n"
     ]
    },
    {
     "data": {
      "image/png": "[encoded data removed]",
      "text/plain": [
       "<Figure size 640x480 with 1 Axes>"
      ]
     },
     "metadata": {},
     "output_type": "display_data"
    }
   ],
   "source": [
    "print(liabilities_data.describe())\n",
    "liabilities_data.plot(x='end', y='val', title='Liabilities Over Time')\n",
    "plt.show()\n"
   ]
  },
  {
   "cell_type": "markdown",
   "id": "29d731d1-ccd0-4b1a-9103-4a1088590d49",
   "metadata": {},
   "source": [
    "# Merge the Data"
   ]
  },
  {
   "cell_type": "code",
   "execution_count": 16,
   "id": "b4c828d8",
   "metadata": {},
   "outputs": [],
   "source": [
    "df_merged = pd.merge(assets_data, liabilities_data, \n",
    "                     on=['EntityName', 'CIK', 'end', 'year', 'quarter'], \n",
    "                     how='outer', suffixes=('_assets', '_liabilities'))"
   ]
  },
  {
   "cell_type": "code",
   "execution_count": 17,
   "id": "4a5d22a6-6b11-4756-ade1-bd80735d4daf",
   "metadata": {},
   "outputs": [],
   "source": [
    "df_merged = pd.merge(df_merged, liabilities_data, \n",
    "                     on=['EntityName', 'CIK', 'end', 'year', 'quarter'], \n",
    "                     how='outer')\n",
    "                     "
   ]
  },
  {
   "cell_type": "code",
   "execution_count": 18,
   "id": "6e06dc61-008d-4836-bfae-125f8cd65291",
   "metadata": {},
   "outputs": [],
   "source": [
    "df_merged.rename(columns={'val_assets': 'CurrentAssets', \n",
    "                          'val_liabilities': 'CurrentLiabilities'}, inplace=True)"
   ]
  },
  {
   "cell_type": "code",
   "execution_count": 19,
   "id": "2430b743-71c8-46d4-8c65-8a9c99d56bb5",
   "metadata": {
    "scrolled": true
   },
   "outputs": [
    {
     "data": {
      "text/html": [
       "<div>\n",
       "<style scoped>\n",
       "    .dataframe tbody tr th:only-of-type {\n",
       "        vertical-align: middle;\n",
       "    }\n",
       "\n",
       "    .dataframe tbody tr th {\n",
       "        vertical-align: top;\n",
       "    }\n",
       "\n",
       "    .dataframe thead th {\n",
       "        text-align: right;\n",
       "    }\n",
       "</style>\n",
       "<table border=\"1\" class=\"dataframe\">\n",
       "  <thead>\n",
       "    <tr style=\"text-align: right;\">\n",
       "      <th></th>\n",
       "      <th>EntityName</th>\n",
       "      <th>CIK</th>\n",
       "      <th>Metric_assets</th>\n",
       "      <th>end</th>\n",
       "      <th>CurrentAssets</th>\n",
       "      <th>year</th>\n",
       "      <th>quarter</th>\n",
       "      <th>Metric_liabilities</th>\n",
       "      <th>CurrentLiabilities</th>\n",
       "      <th>Metric</th>\n",
       "      <th>val</th>\n",
       "    </tr>\n",
       "  </thead>\n",
       "  <tbody>\n",
       "    <tr>\n",
       "      <th>0</th>\n",
       "      <td>THE BOEING COMPANY</td>\n",
       "      <td>12927</td>\n",
       "      <td>AssetsCurrent</td>\n",
       "      <td>2008-12-31</td>\n",
       "      <td>25964000000</td>\n",
       "      <td>2008</td>\n",
       "      <td>Q4</td>\n",
       "      <td>LiabilitiesCurrent</td>\n",
       "      <td>30773000000</td>\n",
       "      <td>LiabilitiesCurrent</td>\n",
       "      <td>30773000000</td>\n",
       "    </tr>\n",
       "    <tr>\n",
       "      <th>1</th>\n",
       "      <td>THE BOEING COMPANY</td>\n",
       "      <td>12927</td>\n",
       "      <td>AssetsCurrent</td>\n",
       "      <td>2009-06-30</td>\n",
       "      <td>30120000000</td>\n",
       "      <td>2009</td>\n",
       "      <td>Q2</td>\n",
       "      <td>LiabilitiesCurrent</td>\n",
       "      <td>31272000000</td>\n",
       "      <td>LiabilitiesCurrent</td>\n",
       "      <td>31272000000</td>\n",
       "    </tr>\n",
       "    <tr>\n",
       "      <th>2</th>\n",
       "      <td>THE BOEING COMPANY</td>\n",
       "      <td>12927</td>\n",
       "      <td>AssetsCurrent</td>\n",
       "      <td>2009-09-30</td>\n",
       "      <td>30227000000</td>\n",
       "      <td>2009</td>\n",
       "      <td>Q3</td>\n",
       "      <td>LiabilitiesCurrent</td>\n",
       "      <td>32049000000</td>\n",
       "      <td>LiabilitiesCurrent</td>\n",
       "      <td>32049000000</td>\n",
       "    </tr>\n",
       "    <tr>\n",
       "      <th>3</th>\n",
       "      <td>THE BOEING COMPANY</td>\n",
       "      <td>12927</td>\n",
       "      <td>AssetsCurrent</td>\n",
       "      <td>2009-12-31</td>\n",
       "      <td>35275000000</td>\n",
       "      <td>2009</td>\n",
       "      <td>Q4</td>\n",
       "      <td>LiabilitiesCurrent</td>\n",
       "      <td>32883000000</td>\n",
       "      <td>LiabilitiesCurrent</td>\n",
       "      <td>32883000000</td>\n",
       "    </tr>\n",
       "    <tr>\n",
       "      <th>4</th>\n",
       "      <td>THE BOEING COMPANY</td>\n",
       "      <td>12927</td>\n",
       "      <td>AssetsCurrent</td>\n",
       "      <td>2010-03-31</td>\n",
       "      <td>36798000000</td>\n",
       "      <td>2010</td>\n",
       "      <td>Q1</td>\n",
       "      <td>LiabilitiesCurrent</td>\n",
       "      <td>33484000000</td>\n",
       "      <td>LiabilitiesCurrent</td>\n",
       "      <td>33484000000</td>\n",
       "    </tr>\n",
       "  </tbody>\n",
       "</table>\n",
       "</div>"
      ],
      "text/plain": [
       "           EntityName    CIK  Metric_assets        end  CurrentAssets  year  \\\n",
       "0  THE BOEING COMPANY  12927  AssetsCurrent 2008-12-31    25964000000  2008   \n",
       "1  THE BOEING COMPANY  12927  AssetsCurrent 2009-06-30    30120000000  2009   \n",
       "2  THE BOEING COMPANY  12927  AssetsCurrent 2009-09-30    30227000000  2009   \n",
       "3  THE BOEING COMPANY  12927  AssetsCurrent 2009-12-31    35275000000  2009   \n",
       "4  THE BOEING COMPANY  12927  AssetsCurrent 2010-03-31    36798000000  2010   \n",
       "\n",
       "  quarter  Metric_liabilities  CurrentLiabilities              Metric  \\\n",
       "0      Q4  LiabilitiesCurrent         30773000000  LiabilitiesCurrent   \n",
       "1      Q2  LiabilitiesCurrent         31272000000  LiabilitiesCurrent   \n",
       "2      Q3  LiabilitiesCurrent         32049000000  LiabilitiesCurrent   \n",
       "3      Q4  LiabilitiesCurrent         32883000000  LiabilitiesCurrent   \n",
       "4      Q1  LiabilitiesCurrent         33484000000  LiabilitiesCurrent   \n",
       "\n",
       "           val  \n",
       "0  30773000000  \n",
       "1  31272000000  \n",
       "2  32049000000  \n",
       "3  32883000000  \n",
       "4  33484000000  "
      ]
     },
     "execution_count": 19,
     "metadata": {},
     "output_type": "execute_result"
    }
   ],
   "source": [
    "df_merged.head(5)"
   ]
  },
  {
   "cell_type": "markdown",
   "id": "aa7aa6d9-fd49-4662-970f-80e9994b9bed",
   "metadata": {},
   "source": [
    "# Calculation"
   ]
  },
  {
   "cell_type": "markdown",
   "id": "c7636ad8-cc2c-40b5-b153-e5f4d0c5bb92",
   "metadata": {},
   "source": [
    "**Liquidity:**\n",
    "    \n",
    "    - `AssetsCurrent` (Current Assets)\n",
    "    - `LiabilitiesCurrent` (Current Liabilities)\n",
    "    - **Calculation:** Current Ratio = Current Assets / Current Liabilities to evaluate short-term financial stability."
   ]
  },
  {
   "cell_type": "code",
   "execution_count": 20,
   "id": "1774c3f5-c93a-4448-ba83-24e97faf91e2",
   "metadata": {},
   "outputs": [],
   "source": [
    "# Start by creating a copy of the DataFrame to avoid SettingWithCopyWarning\n",
    "df_final = df_merged.copy()"
   ]
  },
  {
   "cell_type": "code",
   "execution_count": 21,
   "id": "d8bb8465-18e3-4881-9b08-f6d522caf582",
   "metadata": {},
   "outputs": [],
   "source": [
    "# Convert financial values from cents to millions for readability\n",
    "df_final['CurrentAssets'] /= 1000000\n",
    "df_final['CurrentLiabilities'] /= 1000000"
   ]
  },
  {
   "cell_type": "code",
   "execution_count": 22,
   "id": "213d50ee-2c89-41f9-bb7b-7d80083b2ac9",
   "metadata": {},
   "outputs": [],
   "source": [
    "# Calculate the Current Ratio\n",
    "# Ensure that division by zero is handled by replacing zero denominators with NaN\n",
    "df_final['CurrentRatio'] = df_final.apply(lambda row: row['CurrentAssets'] / row['CurrentLiabilities'] \n",
    "                                          if row['CurrentLiabilities'] > 0 \n",
    "                                          else None, axis=1)"
   ]
  },
  {
   "cell_type": "code",
   "execution_count": 23,
   "id": "db15060c-e0e5-44f0-ab8a-37642f31a8a1",
   "metadata": {},
   "outputs": [],
   "source": [
    "# Selecting and renaming columns to match the desired format\n",
    "df_final = df_final[['EntityName', 'CIK', 'end', 'CurrentAssets', 'CurrentLiabilities', 'CurrentRatio', 'year', 'quarter']]\n"
   ]
  },
  {
   "cell_type": "code",
   "execution_count": 24,
   "id": "0a8fd9a7-b484-473a-a96c-7ed64ba10976",
   "metadata": {},
   "outputs": [],
   "source": [
    "df_copy = df_final.copy()\n",
    "df_copy.rename(columns={'EntityName': 'ENTITY', 'end': 'DATE', 'year': 'Year', 'quarter': 'Quarter'}, inplace=True)"
   ]
  },
  {
   "cell_type": "code",
   "execution_count": 25,
   "id": "87ae3d3a-2b6b-4b3a-b192-40b841d61479",
   "metadata": {},
   "outputs": [
    {
     "data": {
      "text/html": [
       "<div>\n",
       "<style scoped>\n",
       "    .dataframe tbody tr th:only-of-type {\n",
       "        vertical-align: middle;\n",
       "    }\n",
       "\n",
       "    .dataframe tbody tr th {\n",
       "        vertical-align: top;\n",
       "    }\n",
       "\n",
       "    .dataframe thead th {\n",
       "        text-align: right;\n",
       "    }\n",
       "</style>\n",
       "<table border=\"1\" class=\"dataframe\">\n",
       "  <thead>\n",
       "    <tr style=\"text-align: right;\">\n",
       "      <th></th>\n",
       "      <th>ENTITY</th>\n",
       "      <th>CIK</th>\n",
       "      <th>DATE</th>\n",
       "      <th>CurrentAssets</th>\n",
       "      <th>CurrentLiabilities</th>\n",
       "      <th>CurrentRatio</th>\n",
       "      <th>Year</th>\n",
       "      <th>Quarter</th>\n",
       "    </tr>\n",
       "  </thead>\n",
       "  <tbody>\n",
       "    <tr>\n",
       "      <th>0</th>\n",
       "      <td>THE BOEING COMPANY</td>\n",
       "      <td>12927</td>\n",
       "      <td>2008-12-31</td>\n",
       "      <td>25964.0</td>\n",
       "      <td>30773.0</td>\n",
       "      <td>0.843727</td>\n",
       "      <td>2008</td>\n",
       "      <td>Q4</td>\n",
       "    </tr>\n",
       "    <tr>\n",
       "      <th>1</th>\n",
       "      <td>THE BOEING COMPANY</td>\n",
       "      <td>12927</td>\n",
       "      <td>2009-06-30</td>\n",
       "      <td>30120.0</td>\n",
       "      <td>31272.0</td>\n",
       "      <td>0.963162</td>\n",
       "      <td>2009</td>\n",
       "      <td>Q2</td>\n",
       "    </tr>\n",
       "    <tr>\n",
       "      <th>2</th>\n",
       "      <td>THE BOEING COMPANY</td>\n",
       "      <td>12927</td>\n",
       "      <td>2009-09-30</td>\n",
       "      <td>30227.0</td>\n",
       "      <td>32049.0</td>\n",
       "      <td>0.943150</td>\n",
       "      <td>2009</td>\n",
       "      <td>Q3</td>\n",
       "    </tr>\n",
       "    <tr>\n",
       "      <th>3</th>\n",
       "      <td>THE BOEING COMPANY</td>\n",
       "      <td>12927</td>\n",
       "      <td>2009-12-31</td>\n",
       "      <td>35275.0</td>\n",
       "      <td>32883.0</td>\n",
       "      <td>1.072743</td>\n",
       "      <td>2009</td>\n",
       "      <td>Q4</td>\n",
       "    </tr>\n",
       "    <tr>\n",
       "      <th>4</th>\n",
       "      <td>THE BOEING COMPANY</td>\n",
       "      <td>12927</td>\n",
       "      <td>2010-03-31</td>\n",
       "      <td>36798.0</td>\n",
       "      <td>33484.0</td>\n",
       "      <td>1.098973</td>\n",
       "      <td>2010</td>\n",
       "      <td>Q1</td>\n",
       "    </tr>\n",
       "  </tbody>\n",
       "</table>\n",
       "</div>"
      ],
      "text/plain": [
       "               ENTITY    CIK       DATE  CurrentAssets  CurrentLiabilities  \\\n",
       "0  THE BOEING COMPANY  12927 2008-12-31        25964.0             30773.0   \n",
       "1  THE BOEING COMPANY  12927 2009-06-30        30120.0             31272.0   \n",
       "2  THE BOEING COMPANY  12927 2009-09-30        30227.0             32049.0   \n",
       "3  THE BOEING COMPANY  12927 2009-12-31        35275.0             32883.0   \n",
       "4  THE BOEING COMPANY  12927 2010-03-31        36798.0             33484.0   \n",
       "\n",
       "   CurrentRatio  Year Quarter  \n",
       "0      0.843727  2008      Q4  \n",
       "1      0.963162  2009      Q2  \n",
       "2      0.943150  2009      Q3  \n",
       "3      1.072743  2009      Q4  \n",
       "4      1.098973  2010      Q1  "
      ]
     },
     "execution_count": 25,
     "metadata": {},
     "output_type": "execute_result"
    }
   ],
   "source": [
    "df_copy.head(5)"
   ]
  },
  {
   "cell_type": "markdown",
   "id": "911cf03e-2324-4222-8b0e-54a80d8a1905",
   "metadata": {},
   "source": [
    "# Visualization"
   ]
  },
  {
   "cell_type": "code",
   "execution_count": 26,
   "id": "d061400c-400a-4974-a552-cff111ff7922",
   "metadata": {},
   "outputs": [
    {
     "data": {
      "text/html": [
       "\n",
       "        <iframe\n",
       "            width=\"100%\"\n",
       "            height=\"650\"\n",
       "            src=\"http://127.0.0.1:8050/\"\n",
       "            frameborder=\"0\"\n",
       "            allowfullscreen\n",
       "            \n",
       "        ></iframe>\n",
       "        "
      ],
      "text/plain": [
       "<IPython.lib.display.IFrame at 0x120cd8290>"
      ]
     },
     "metadata": {},
     "output_type": "display_data"
    },
    {
     "ename": "",
     "evalue": "",
     "output_type": "error",
     "traceback": [
      "\u001b[1;31mThe Kernel crashed while executing code in the the current cell or a previous cell. Please review the code in the cell(s) to identify a possible cause of the failure. Click <a href='https://aka.ms/vscodeJupyterKernelCrash'>here</a> for more info. View Jupyter <a href='command:jupyter.viewOutput'>log</a> for further details."
     ]
    }
   ],
   "source": [
    "import dash\n",
    "from dash import dcc, html, Input, Output\n",
    "import plotly.express as px\n",
    "\n",
    "\n",
    "app = dash.Dash(__name__)\n",
    "\n",
    "# App layout\n",
    "app.layout = html.Div([\n",
    "    html.H1(\"Financial Dashboard: THE BOEING COMPANY\", style={'text-align': 'center'}),\n",
    "\n",
    "    # Dropdown for metric selection\n",
    "    html.Div([\n",
    "        html.Label(\"Select Financial Metric:\"),\n",
    "        dcc.Dropdown(\n",
    "            id='metric-select-dropdown',\n",
    "            options=[\n",
    "                {'label': 'Current Assets', 'value': 'CurrentAssets'},\n",
    "                {'label': 'Current Liabilities', 'value': 'CurrentLiabilities'},\n",
    "                {'label': 'Current Ratio', 'value': 'CurrentRatio'}\n",
    "            ],\n",
    "            value='CurrentAssets'  # Default value\n",
    "        ),\n",
    "    ], style={'width': '48%', 'display': 'inline-block'}),\n",
    "\n",
    "    # Date Range Picker\n",
    "    html.Div([\n",
    "        html.Label(\"Select Date Range:\"),\n",
    "        dcc.DatePickerRange(\n",
    "            id='date-range-picker',\n",
    "            min_date_allowed=df_copy['DATE'].min(),\n",
    "            max_date_allowed=df_copy['DATE'].max(),\n",
    "            start_date=df_copy['DATE'].min(),\n",
    "            end_date=df_copy['DATE'].max()\n",
    "        )\n",
    "    ], style={'width': '48%', 'float': 'right', 'display': 'inline-block'}),\n",
    "\n",
    "    # Time Series Chart\n",
    "    dcc.Graph(id='time-series-chart'),\n",
    "\n",
    "    # Additional Charts\n",
    "    html.Div([\n",
    "        dcc.Graph(id='assets-vs-liabilities-chart'),\n",
    "        dcc.Graph(id='current-ratio-chart'),\n",
    "    ], style={'columnCount': 2})\n",
    "])\n",
    "\n",
    "# Callback to update time series chart based on selections\n",
    "@app.callback(\n",
    "    Output('time-series-chart', 'figure'),\n",
    "    [Input('metric-select-dropdown', 'value'),\n",
    "     Input('date-range-picker', 'start_date'),\n",
    "     Input('date-range-picker', 'end_date')]\n",
    ")\n",
    "def update_time_series(selected_metric, start_date, end_date):\n",
    "    filtered_df = df_copy[(df_copy['DATE'] >= start_date) & (df_copy['DATE'] <= end_date)]\n",
    "    fig = px.line(filtered_df, x='DATE', y=selected_metric, title=f'{selected_metric} Over Time')\n",
    "    return fig\n",
    "\n",
    "# Callback for Assets vs Liabilities Chart\n",
    "@app.callback(\n",
    "    Output('assets-vs-liabilities-chart', 'figure'),\n",
    "    [Input('date-range-picker', 'start_date'),\n",
    "     Input('date-range-picker', 'end_date')]\n",
    ")\n",
    "def update_assets_liabilities_chart(start_date, end_date):\n",
    "    filtered_df = df_copy[(df_copy['DATE'] >= start_date) & (df_copy['DATE'] <= end_date)]\n",
    "    fig = px.scatter(filtered_df, x='CurrentAssets', y='CurrentLiabilities', color='Year',\n",
    "                     title='Current Assets vs Current Liabilities')\n",
    "    return fig\n",
    "\n",
    "# Callback for Current Ratio Chart\n",
    "@app.callback(\n",
    "    Output('current-ratio-chart', 'figure'),\n",
    "    [Input('date-range-picker', 'start_date'),\n",
    "     Input('date-range-picker', 'end_date')]\n",
    ")\n",
    "def update_current_ratio_chart(start_date, end_date):\n",
    "    filtered_df = df_copy[(df_copy['DATE'] >= start_date) & (df_copy['DATE'] <= end_date)]\n",
    "    fig = px.bar(filtered_df, x='DATE', y='CurrentRatio', color='Quarter',\n",
    "                 title='Current Ratio by Quarter')\n",
    "    return fig\n",
    "\n",
    "# Run the app\n",
    "if __name__ == '__main__':\n",
    "    app.run_server(debug=True)"
   ]
  }
 ],
 "metadata": {
  "kernelspec": {
   "display_name": "Python 3 (ipykernel)",
   "language": "python",
   "name": "python3"
  },
  "language_info": {
   "codemirror_mode": {
    "name": "ipython",
    "version": 3
   },
   "file_extension": ".py",
   "mimetype": "text/x-python",
   "name": "python",
   "nbconvert_exporter": "python",
   "pygments_lexer": "ipython3",
   "version": "3.11.6"
  }
 },
 "nbformat": 4,
 "nbformat_minor": 5
}
