{
 "cells": [
  {
   "cell_type": "markdown",
   "id": "645f7f19-4820-48f6-9c48-c6680ef21474",
   "metadata": {
    "jp-MarkdownHeadingCollapsed": true
   },
   "source": [
    "# 03_Assets_Liabilities_Analysis.ipynb"
   ]
  },
  {
   "cell_type": "markdown",
   "id": "1b528acd-813f-438e-af94-6d37e98a7e4e",
   "metadata": {},
   "source": [
    "## Title: \"Assets Liabilities Assessment\""
   ]
  },
  {
   "cell_type": "markdown",
   "id": "4c68e4b6-02e6-4f7f-bc98-b57c7595c604",
   "metadata": {},
   "source": [
    "### Contents:\n",
    "\n",
    "- Analyzing Assets and Liabilities metrics from SEC data.\n",
    "- Comparing with assets_liabilities_query.sql results.\n",
    "- Calculating debt ratios and solvency measures.\n",
    "- Visualizations and debt profile analysis."
   ]
  },
  {
   "cell_type": "markdown",
   "id": "39b005c6-3ee2-41ad-91a1-9d241660f870",
   "metadata": {},
   "source": [
    "---"
   ]
  },
  {
   "cell_type": "markdown",
   "id": "742170c6-3012-4827-aa74-310b498d23aa",
   "metadata": {},
   "source": [
    "# Set Up the Environment"
   ]
  },
  {
   "cell_type": "markdown",
   "id": "5e6b38cc-c136-412f-b12e-67141d0676b9",
   "metadata": {},
   "source": [
    "## Import Libraries"
   ]
  },
  {
   "cell_type": "code",
   "execution_count": 14,
   "id": "67ca6750-7217-4be1-978a-1a433b759c54",
   "metadata": {},
   "outputs": [],
   "source": [
    "import pandas as pd\n",
    "import matplotlib.pyplot as plt"
   ]
  },
  {
   "cell_type": "markdown",
   "id": "cf26d2db-597b-4c03-8acf-94fe6fd2c7a3",
   "metadata": {},
   "source": [
    "## Functions"
   ]
  },
  {
   "cell_type": "code",
   "execution_count": 15,
   "id": "0edf7aaf-b9e7-4acd-8e09-70def5e11664",
   "metadata": {},
   "outputs": [],
   "source": [
    "from prepare_and_sort_data_quarterly import prepare_and_sort_financial_data"
   ]
  },
  {
   "cell_type": "markdown",
   "id": "7e6ffad5-7e1a-4d4b-ad7e-e63abc599b8a",
   "metadata": {},
   "source": [
    "# Load Data"
   ]
  },
  {
   "cell_type": "markdown",
   "id": "bbf50fa0-70c4-4f31-8933-7dca009c7810",
   "metadata": {},
   "source": [
    "## Load Data from CSV File"
   ]
  },
  {
   "cell_type": "code",
   "execution_count": 16,
   "id": "17da640e-aa9a-4081-98e6-9166746159dd",
   "metadata": {},
   "outputs": [],
   "source": [
    "raw_data = pd.read_csv('combined_df.csv')"
   ]
  },
  {
   "cell_type": "code",
   "execution_count": 17,
   "id": "2da40aa2-7091-4fd4-9d72-28feb1eb4206",
   "metadata": {},
   "outputs": [
    {
     "data": {
      "text/html": [
       "<div>\n",
       "<style scoped>\n",
       "    .dataframe tbody tr th:only-of-type {\n",
       "        vertical-align: middle;\n",
       "    }\n",
       "\n",
       "    .dataframe tbody tr th {\n",
       "        vertical-align: top;\n",
       "    }\n",
       "\n",
       "    .dataframe thead th {\n",
       "        text-align: right;\n",
       "    }\n",
       "</style>\n",
       "<table border=\"1\" class=\"dataframe\">\n",
       "  <thead>\n",
       "    <tr style=\"text-align: right;\">\n",
       "      <th></th>\n",
       "      <th>EntityName</th>\n",
       "      <th>CIK</th>\n",
       "      <th>Metric</th>\n",
       "      <th>end</th>\n",
       "      <th>val</th>\n",
       "      <th>accn</th>\n",
       "      <th>fy</th>\n",
       "      <th>fp</th>\n",
       "      <th>form</th>\n",
       "      <th>filed</th>\n",
       "      <th>frame</th>\n",
       "    </tr>\n",
       "  </thead>\n",
       "  <tbody>\n",
       "    <tr>\n",
       "      <th>0</th>\n",
       "      <td>THE BOEING COMPANY</td>\n",
       "      <td>12927</td>\n",
       "      <td>Assets</td>\n",
       "      <td>2008-12-31</td>\n",
       "      <td>53779000000</td>\n",
       "      <td>0001193125-09-152905</td>\n",
       "      <td>2009</td>\n",
       "      <td>Q2</td>\n",
       "      <td>10-Q</td>\n",
       "      <td>2009-07-22</td>\n",
       "      <td>NaN</td>\n",
       "    </tr>\n",
       "    <tr>\n",
       "      <th>1</th>\n",
       "      <td>THE BOEING COMPANY</td>\n",
       "      <td>12927</td>\n",
       "      <td>Assets</td>\n",
       "      <td>2008-12-31</td>\n",
       "      <td>53779000000</td>\n",
       "      <td>0001193125-09-210918</td>\n",
       "      <td>2009</td>\n",
       "      <td>Q3</td>\n",
       "      <td>10-Q</td>\n",
       "      <td>2009-10-21</td>\n",
       "      <td>NaN</td>\n",
       "    </tr>\n",
       "    <tr>\n",
       "      <th>2</th>\n",
       "      <td>THE BOEING COMPANY</td>\n",
       "      <td>12927</td>\n",
       "      <td>Assets</td>\n",
       "      <td>2008-12-31</td>\n",
       "      <td>53779000000</td>\n",
       "      <td>0001193125-10-024406</td>\n",
       "      <td>2009</td>\n",
       "      <td>FY</td>\n",
       "      <td>10-K</td>\n",
       "      <td>2010-02-08</td>\n",
       "      <td>CY2008Q4I</td>\n",
       "    </tr>\n",
       "    <tr>\n",
       "      <th>3</th>\n",
       "      <td>THE BOEING COMPANY</td>\n",
       "      <td>12927</td>\n",
       "      <td>Assets</td>\n",
       "      <td>2009-06-30</td>\n",
       "      <td>57712000000</td>\n",
       "      <td>0001193125-09-152905</td>\n",
       "      <td>2009</td>\n",
       "      <td>Q2</td>\n",
       "      <td>10-Q</td>\n",
       "      <td>2009-07-22</td>\n",
       "      <td>CY2009Q2I</td>\n",
       "    </tr>\n",
       "    <tr>\n",
       "      <th>4</th>\n",
       "      <td>THE BOEING COMPANY</td>\n",
       "      <td>12927</td>\n",
       "      <td>Assets</td>\n",
       "      <td>2009-09-30</td>\n",
       "      <td>58667000000</td>\n",
       "      <td>0001193125-09-210918</td>\n",
       "      <td>2009</td>\n",
       "      <td>Q3</td>\n",
       "      <td>10-Q</td>\n",
       "      <td>2009-10-21</td>\n",
       "      <td>CY2009Q3I</td>\n",
       "    </tr>\n",
       "  </tbody>\n",
       "</table>\n",
       "</div>"
      ],
      "text/plain": [
       "           EntityName    CIK  Metric         end          val  \\\n",
       "0  THE BOEING COMPANY  12927  Assets  2008-12-31  53779000000   \n",
       "1  THE BOEING COMPANY  12927  Assets  2008-12-31  53779000000   \n",
       "2  THE BOEING COMPANY  12927  Assets  2008-12-31  53779000000   \n",
       "3  THE BOEING COMPANY  12927  Assets  2009-06-30  57712000000   \n",
       "4  THE BOEING COMPANY  12927  Assets  2009-09-30  58667000000   \n",
       "\n",
       "                   accn    fy  fp  form       filed      frame  \n",
       "0  0001193125-09-152905  2009  Q2  10-Q  2009-07-22        NaN  \n",
       "1  0001193125-09-210918  2009  Q3  10-Q  2009-10-21        NaN  \n",
       "2  0001193125-10-024406  2009  FY  10-K  2010-02-08  CY2008Q4I  \n",
       "3  0001193125-09-152905  2009  Q2  10-Q  2009-07-22  CY2009Q2I  \n",
       "4  0001193125-09-210918  2009  Q3  10-Q  2009-10-21  CY2009Q3I  "
      ]
     },
     "execution_count": 17,
     "metadata": {},
     "output_type": "execute_result"
    }
   ],
   "source": [
    "# Inspect the first few rows of the dataset\n",
    "raw_data.head(5)"
   ]
  },
  {
   "cell_type": "code",
   "execution_count": 18,
   "id": "77c4cd58-2314-4159-9285-e7e5cd74024e",
   "metadata": {},
   "outputs": [],
   "source": [
    "# Convert 'end' column to datetime for proper sorting\n",
    "raw_data['end'] = pd.to_datetime(raw_data['end'], format='%Y-%m-%d')\n"
   ]
  },
  {
   "cell_type": "code",
   "execution_count": 19,
   "id": "c86d3812-3223-469f-8e48-7e3aab83abfb",
   "metadata": {},
   "outputs": [
    {
     "name": "stdout",
     "output_type": "stream",
     "text": [
      "<class 'pandas.core.frame.DataFrame'>\n",
      "RangeIndex: 278 entries, 0 to 277\n",
      "Data columns (total 11 columns):\n",
      " #   Column      Non-Null Count  Dtype         \n",
      "---  ------      --------------  -----         \n",
      " 0   EntityName  278 non-null    object        \n",
      " 1   CIK         278 non-null    int64         \n",
      " 2   Metric      278 non-null    object        \n",
      " 3   end         278 non-null    datetime64[ns]\n",
      " 4   val         278 non-null    int64         \n",
      " 5   accn        278 non-null    object        \n",
      " 6   fy          278 non-null    int64         \n",
      " 7   fp          278 non-null    object        \n",
      " 8   form        278 non-null    object        \n",
      " 9   filed       278 non-null    object        \n",
      " 10  frame       144 non-null    object        \n",
      "dtypes: datetime64[ns](1), int64(3), object(7)\n",
      "memory usage: 24.0+ KB\n"
     ]
    }
   ],
   "source": [
    "# Check the data types and look for any missing values\n",
    "raw_data.info()"
   ]
  },
  {
   "cell_type": "markdown",
   "id": "5d4da628-9f6a-4f82-8007-f6dfbc576111",
   "metadata": {},
   "source": [
    "# Individual Metrics Analysis"
   ]
  },
  {
   "cell_type": "markdown",
   "id": "bb139a91-ca7e-47e7-9d3a-1e4e1ecb0b42",
   "metadata": {},
   "source": [
    "## Analysis of Assets"
   ]
  },
  {
   "cell_type": "code",
   "execution_count": 20,
   "id": "2e6284c1-20dc-413a-b050-87e1fdcb753a",
   "metadata": {},
   "outputs": [],
   "source": [
    "# Filter out the Assets\n",
    "assets = raw_data[raw_data['Metric'] == 'Assets']"
   ]
  },
  {
   "cell_type": "code",
   "execution_count": 21,
   "id": "4d3490e9-1f80-4170-9ace-21696aca6399",
   "metadata": {},
   "outputs": [],
   "source": [
    "assets_data = prepare_and_sort_financial_data(raw_data, 'Assets')"
   ]
  },
  {
   "cell_type": "code",
   "execution_count": 23,
   "id": "238c75fa-324d-4f7e-a3d2-86eaf2d4eb0b",
   "metadata": {},
   "outputs": [
    {
     "data": {
      "text/html": [
       "<div>\n",
       "<style scoped>\n",
       "    .dataframe tbody tr th:only-of-type {\n",
       "        vertical-align: middle;\n",
       "    }\n",
       "\n",
       "    .dataframe tbody tr th {\n",
       "        vertical-align: top;\n",
       "    }\n",
       "\n",
       "    .dataframe thead th {\n",
       "        text-align: right;\n",
       "    }\n",
       "</style>\n",
       "<table border=\"1\" class=\"dataframe\">\n",
       "  <thead>\n",
       "    <tr style=\"text-align: right;\">\n",
       "      <th></th>\n",
       "      <th>EntityName</th>\n",
       "      <th>CIK</th>\n",
       "      <th>Metric</th>\n",
       "      <th>end</th>\n",
       "      <th>val</th>\n",
       "      <th>year</th>\n",
       "      <th>quarter</th>\n",
       "    </tr>\n",
       "  </thead>\n",
       "  <tbody>\n",
       "    <tr>\n",
       "      <th>2</th>\n",
       "      <td>THE BOEING COMPANY</td>\n",
       "      <td>12927</td>\n",
       "      <td>Assets</td>\n",
       "      <td>2008-12-31</td>\n",
       "      <td>53779000000</td>\n",
       "      <td>2008</td>\n",
       "      <td>Q4</td>\n",
       "    </tr>\n",
       "    <tr>\n",
       "      <th>3</th>\n",
       "      <td>THE BOEING COMPANY</td>\n",
       "      <td>12927</td>\n",
       "      <td>Assets</td>\n",
       "      <td>2009-06-30</td>\n",
       "      <td>57712000000</td>\n",
       "      <td>2009</td>\n",
       "      <td>Q2</td>\n",
       "    </tr>\n",
       "    <tr>\n",
       "      <th>4</th>\n",
       "      <td>THE BOEING COMPANY</td>\n",
       "      <td>12927</td>\n",
       "      <td>Assets</td>\n",
       "      <td>2009-09-30</td>\n",
       "      <td>58667000000</td>\n",
       "      <td>2009</td>\n",
       "      <td>Q3</td>\n",
       "    </tr>\n",
       "    <tr>\n",
       "      <th>9</th>\n",
       "      <td>THE BOEING COMPANY</td>\n",
       "      <td>12927</td>\n",
       "      <td>Assets</td>\n",
       "      <td>2009-12-31</td>\n",
       "      <td>62053000000</td>\n",
       "      <td>2009</td>\n",
       "      <td>Q4</td>\n",
       "    </tr>\n",
       "    <tr>\n",
       "      <th>10</th>\n",
       "      <td>THE BOEING COMPANY</td>\n",
       "      <td>12927</td>\n",
       "      <td>Assets</td>\n",
       "      <td>2010-03-31</td>\n",
       "      <td>62970000000</td>\n",
       "      <td>2010</td>\n",
       "      <td>Q1</td>\n",
       "    </tr>\n",
       "    <tr>\n",
       "      <th>11</th>\n",
       "      <td>THE BOEING COMPANY</td>\n",
       "      <td>12927</td>\n",
       "      <td>Assets</td>\n",
       "      <td>2010-06-30</td>\n",
       "      <td>63755000000</td>\n",
       "      <td>2010</td>\n",
       "      <td>Q2</td>\n",
       "    </tr>\n",
       "    <tr>\n",
       "      <th>12</th>\n",
       "      <td>THE BOEING COMPANY</td>\n",
       "      <td>12927</td>\n",
       "      <td>Assets</td>\n",
       "      <td>2010-09-30</td>\n",
       "      <td>65222000000</td>\n",
       "      <td>2010</td>\n",
       "      <td>Q3</td>\n",
       "    </tr>\n",
       "    <tr>\n",
       "      <th>17</th>\n",
       "      <td>THE BOEING COMPANY</td>\n",
       "      <td>12927</td>\n",
       "      <td>Assets</td>\n",
       "      <td>2010-12-31</td>\n",
       "      <td>68565000000</td>\n",
       "      <td>2010</td>\n",
       "      <td>Q4</td>\n",
       "    </tr>\n",
       "    <tr>\n",
       "      <th>18</th>\n",
       "      <td>THE BOEING COMPANY</td>\n",
       "      <td>12927</td>\n",
       "      <td>Assets</td>\n",
       "      <td>2011-03-31</td>\n",
       "      <td>68760000000</td>\n",
       "      <td>2011</td>\n",
       "      <td>Q1</td>\n",
       "    </tr>\n",
       "    <tr>\n",
       "      <th>19</th>\n",
       "      <td>THE BOEING COMPANY</td>\n",
       "      <td>12927</td>\n",
       "      <td>Assets</td>\n",
       "      <td>2011-06-30</td>\n",
       "      <td>72119000000</td>\n",
       "      <td>2011</td>\n",
       "      <td>Q2</td>\n",
       "    </tr>\n",
       "  </tbody>\n",
       "</table>\n",
       "</div>"
      ],
      "text/plain": [
       "            EntityName    CIK  Metric        end          val  year quarter\n",
       "2   THE BOEING COMPANY  12927  Assets 2008-12-31  53779000000  2008      Q4\n",
       "3   THE BOEING COMPANY  12927  Assets 2009-06-30  57712000000  2009      Q2\n",
       "4   THE BOEING COMPANY  12927  Assets 2009-09-30  58667000000  2009      Q3\n",
       "9   THE BOEING COMPANY  12927  Assets 2009-12-31  62053000000  2009      Q4\n",
       "10  THE BOEING COMPANY  12927  Assets 2010-03-31  62970000000  2010      Q1\n",
       "11  THE BOEING COMPANY  12927  Assets 2010-06-30  63755000000  2010      Q2\n",
       "12  THE BOEING COMPANY  12927  Assets 2010-09-30  65222000000  2010      Q3\n",
       "17  THE BOEING COMPANY  12927  Assets 2010-12-31  68565000000  2010      Q4\n",
       "18  THE BOEING COMPANY  12927  Assets 2011-03-31  68760000000  2011      Q1\n",
       "19  THE BOEING COMPANY  12927  Assets 2011-06-30  72119000000  2011      Q2"
      ]
     },
     "execution_count": 23,
     "metadata": {},
     "output_type": "execute_result"
    }
   ],
   "source": [
    "assets_data.head(10)"
   ]
  },
  {
   "cell_type": "code",
   "execution_count": 24,
   "id": "57493903-4d26-452d-9a65-601d6a9f9b18",
   "metadata": {},
   "outputs": [
    {
     "name": "stdout",
     "output_type": "stream",
     "text": [
      "           CIK                            end           val\n",
      "count     59.0                             59  5.900000e+01\n",
      "mean   12927.0  2016-06-28 15:51:51.864406784  1.037422e+11\n",
      "min    12927.0            2008-12-31 00:00:00  5.377900e+10\n",
      "25%    12927.0            2012-11-15 00:00:00  8.627500e+10\n",
      "50%    12927.0            2016-06-30 00:00:00  9.292100e+10\n",
      "75%    12927.0            2020-02-14 12:00:00  1.339530e+11\n",
      "max    12927.0            2023-09-30 00:00:00  1.628720e+11\n",
      "std        0.0                            NaN  2.950007e+10\n"
     ]
    }
   ],
   "source": [
    "print(assets_data.describe())"
   ]
  },
  {
   "cell_type": "code",
   "execution_count": 25,
   "id": "2761052e-d62c-4a2e-96f1-e30db39c0979",
   "metadata": {},
   "outputs": [
    {
     "data": {
      "image/png": "[encoded data removed]",
      "text/plain": [
       "<Figure size 640x480 with 1 Axes>"
      ]
     },
     "metadata": {},
     "output_type": "display_data"
    }
   ],
   "source": [
    "assets_data.plot(x='end', y='val', title='Assets Over Time')\n",
    "plt.show()"
   ]
  },
  {
   "cell_type": "markdown",
   "id": "83e4c4da-da70-4ee1-9550-fb1b4d599d1f",
   "metadata": {},
   "source": [
    "## Analysis of Stockholders Equity"
   ]
  },
  {
   "cell_type": "code",
   "execution_count": 26,
   "id": "11945af5-7b03-4191-a86f-89fdd06603b7",
   "metadata": {},
   "outputs": [],
   "source": [
    "stockholders_equity = raw_data[raw_data['Metric'] == 'StockholdersEquity']"
   ]
  },
  {
   "cell_type": "code",
   "execution_count": 28,
   "id": "bd462648-362f-45f2-a04d-af2a04ec7089",
   "metadata": {},
   "outputs": [],
   "source": [
    "stockholders_equity_data = prepare_and_sort_financial_data(raw_data, 'StockholdersEquity')"
   ]
  },
  {
   "cell_type": "code",
   "execution_count": 29,
   "id": "59c48245-37a0-4156-b6e4-711d28ee974b",
   "metadata": {},
   "outputs": [
    {
     "data": {
      "text/html": [
       "<div>\n",
       "<style scoped>\n",
       "    .dataframe tbody tr th:only-of-type {\n",
       "        vertical-align: middle;\n",
       "    }\n",
       "\n",
       "    .dataframe tbody tr th {\n",
       "        vertical-align: top;\n",
       "    }\n",
       "\n",
       "    .dataframe thead th {\n",
       "        text-align: right;\n",
       "    }\n",
       "</style>\n",
       "<table border=\"1\" class=\"dataframe\">\n",
       "  <thead>\n",
       "    <tr style=\"text-align: right;\">\n",
       "      <th></th>\n",
       "      <th>EntityName</th>\n",
       "      <th>CIK</th>\n",
       "      <th>Metric</th>\n",
       "      <th>end</th>\n",
       "      <th>val</th>\n",
       "      <th>year</th>\n",
       "      <th>quarter</th>\n",
       "    </tr>\n",
       "  </thead>\n",
       "  <tbody>\n",
       "    <tr>\n",
       "      <th>164</th>\n",
       "      <td>THE BOEING COMPANY</td>\n",
       "      <td>12927</td>\n",
       "      <td>StockholdersEquity</td>\n",
       "      <td>2008-12-31</td>\n",
       "      <td>-1294000000</td>\n",
       "      <td>2008</td>\n",
       "      <td>Q4</td>\n",
       "    </tr>\n",
       "    <tr>\n",
       "      <th>165</th>\n",
       "      <td>THE BOEING COMPANY</td>\n",
       "      <td>12927</td>\n",
       "      <td>StockholdersEquity</td>\n",
       "      <td>2009-06-30</td>\n",
       "      <td>180000000</td>\n",
       "      <td>2009</td>\n",
       "      <td>Q2</td>\n",
       "    </tr>\n",
       "    <tr>\n",
       "      <th>166</th>\n",
       "      <td>THE BOEING COMPANY</td>\n",
       "      <td>12927</td>\n",
       "      <td>StockholdersEquity</td>\n",
       "      <td>2009-09-30</td>\n",
       "      <td>-1028000000</td>\n",
       "      <td>2009</td>\n",
       "      <td>Q3</td>\n",
       "    </tr>\n",
       "    <tr>\n",
       "      <th>171</th>\n",
       "      <td>THE BOEING COMPANY</td>\n",
       "      <td>12927</td>\n",
       "      <td>StockholdersEquity</td>\n",
       "      <td>2009-12-31</td>\n",
       "      <td>2128000000</td>\n",
       "      <td>2009</td>\n",
       "      <td>Q4</td>\n",
       "    </tr>\n",
       "    <tr>\n",
       "      <th>172</th>\n",
       "      <td>THE BOEING COMPANY</td>\n",
       "      <td>12927</td>\n",
       "      <td>StockholdersEquity</td>\n",
       "      <td>2010-03-31</td>\n",
       "      <td>2942000000</td>\n",
       "      <td>2010</td>\n",
       "      <td>Q1</td>\n",
       "    </tr>\n",
       "  </tbody>\n",
       "</table>\n",
       "</div>"
      ],
      "text/plain": [
       "             EntityName    CIK              Metric        end         val  \\\n",
       "164  THE BOEING COMPANY  12927  StockholdersEquity 2008-12-31 -1294000000   \n",
       "165  THE BOEING COMPANY  12927  StockholdersEquity 2009-06-30   180000000   \n",
       "166  THE BOEING COMPANY  12927  StockholdersEquity 2009-09-30 -1028000000   \n",
       "171  THE BOEING COMPANY  12927  StockholdersEquity 2009-12-31  2128000000   \n",
       "172  THE BOEING COMPANY  12927  StockholdersEquity 2010-03-31  2942000000   \n",
       "\n",
       "     year quarter  \n",
       "164  2008      Q4  \n",
       "165  2009      Q2  \n",
       "166  2009      Q3  \n",
       "171  2009      Q4  \n",
       "172  2010      Q1  "
      ]
     },
     "execution_count": 29,
     "metadata": {},
     "output_type": "execute_result"
    }
   ],
   "source": [
    "stockholders_equity_data.head(5)"
   ]
  },
  {
   "cell_type": "code",
   "execution_count": 30,
   "id": "5459090a-b5aa-414e-815a-9ffc0186c339",
   "metadata": {},
   "outputs": [
    {
     "name": "stdout",
     "output_type": "stream",
     "text": [
      "           CIK                            end           val\n",
      "count     59.0                             59  5.900000e+01\n",
      "mean   12927.0  2016-06-28 15:51:51.864406784 -1.094593e+09\n",
      "min    12927.0            2008-12-31 00:00:00 -1.831600e+10\n",
      "25%    12927.0            2012-11-15 00:00:00 -9.141000e+09\n",
      "50%    12927.0            2016-06-30 00:00:00  1.086000e+09\n",
      "75%    12927.0            2020-02-14 12:00:00  5.835500e+09\n",
      "max    12927.0            2023-09-30 00:00:00  1.487500e+10\n",
      "std        0.0                            NaN  9.465670e+09\n"
     ]
    },
    {
     "data": {
      "image/png": "[encoded data removed]",
      "text/plain": [
       "<Figure size 640x480 with 1 Axes>"
      ]
     },
     "metadata": {},
     "output_type": "display_data"
    }
   ],
   "source": [
    "print(stockholders_equity_data.describe())\n",
    "stockholders_equity_data.plot(x='end', y='val', title='Stockholders Equity Over Time')\n",
    "plt.show()\n"
   ]
  },
  {
   "cell_type": "markdown",
   "id": "56f348b6-6528-4f3c-8f02-76d95b1bc8dd",
   "metadata": {},
   "source": [
    "## Analysis of Liabilities"
   ]
  },
  {
   "cell_type": "code",
   "execution_count": 31,
   "id": "e8c3d4a7-02df-443d-b680-748e73edbcc7",
   "metadata": {},
   "outputs": [],
   "source": [
    "# Filter out the Liabilities data\n",
    "liabilities_loss = raw_data[raw_data['Metric'] == 'Liabilities']"
   ]
  },
  {
   "cell_type": "code",
   "execution_count": 32,
   "id": "68f3bce9-bad4-4e4f-80e0-01cf76f0665d",
   "metadata": {},
   "outputs": [],
   "source": [
    "liabilities_data = prepare_and_sort_financial_data(raw_data, 'Liabilities')"
   ]
  },
  {
   "cell_type": "code",
   "execution_count": 18,
   "id": "4a6e170b-0e5e-4ecb-99b9-800647193d10",
   "metadata": {},
   "outputs": [
    {
     "data": {
      "text/html": [
       "<div>\n",
       "<style scoped>\n",
       "    .dataframe tbody tr th:only-of-type {\n",
       "        vertical-align: middle;\n",
       "    }\n",
       "\n",
       "    .dataframe tbody tr th {\n",
       "        vertical-align: top;\n",
       "    }\n",
       "\n",
       "    .dataframe thead th {\n",
       "        text-align: right;\n",
       "    }\n",
       "</style>\n",
       "<table border=\"1\" class=\"dataframe\">\n",
       "  <thead>\n",
       "    <tr style=\"text-align: right;\">\n",
       "      <th></th>\n",
       "      <th>EntityName</th>\n",
       "      <th>CIK</th>\n",
       "      <th>Metric</th>\n",
       "      <th>end</th>\n",
       "      <th>val</th>\n",
       "      <th>year</th>\n",
       "      <th>quarter</th>\n",
       "    </tr>\n",
       "  </thead>\n",
       "  <tbody>\n",
       "    <tr>\n",
       "      <th>117</th>\n",
       "      <td>THE BOEING COMPANY</td>\n",
       "      <td>12927</td>\n",
       "      <td>Liabilities</td>\n",
       "      <td>2009-12-31</td>\n",
       "      <td>59828000000</td>\n",
       "      <td>2009</td>\n",
       "      <td>Q4</td>\n",
       "    </tr>\n",
       "    <tr>\n",
       "      <th>118</th>\n",
       "      <td>THE BOEING COMPANY</td>\n",
       "      <td>12927</td>\n",
       "      <td>Liabilities</td>\n",
       "      <td>2010-06-30</td>\n",
       "      <td>60582000000</td>\n",
       "      <td>2010</td>\n",
       "      <td>Q2</td>\n",
       "    </tr>\n",
       "    <tr>\n",
       "      <th>119</th>\n",
       "      <td>THE BOEING COMPANY</td>\n",
       "      <td>12927</td>\n",
       "      <td>Liabilities</td>\n",
       "      <td>2010-09-30</td>\n",
       "      <td>60670000000</td>\n",
       "      <td>2010</td>\n",
       "      <td>Q3</td>\n",
       "    </tr>\n",
       "    <tr>\n",
       "      <th>122</th>\n",
       "      <td>THE BOEING COMPANY</td>\n",
       "      <td>12927</td>\n",
       "      <td>Liabilities</td>\n",
       "      <td>2010-12-31</td>\n",
       "      <td>65703000000</td>\n",
       "      <td>2010</td>\n",
       "      <td>Q4</td>\n",
       "    </tr>\n",
       "    <tr>\n",
       "      <th>123</th>\n",
       "      <td>THE BOEING COMPANY</td>\n",
       "      <td>12927</td>\n",
       "      <td>Liabilities</td>\n",
       "      <td>2011-06-30</td>\n",
       "      <td>67295000000</td>\n",
       "      <td>2011</td>\n",
       "      <td>Q2</td>\n",
       "    </tr>\n",
       "  </tbody>\n",
       "</table>\n",
       "</div>"
      ],
      "text/plain": [
       "             EntityName    CIK       Metric        end          val  year  \\\n",
       "117  THE BOEING COMPANY  12927  Liabilities 2009-12-31  59828000000  2009   \n",
       "118  THE BOEING COMPANY  12927  Liabilities 2010-06-30  60582000000  2010   \n",
       "119  THE BOEING COMPANY  12927  Liabilities 2010-09-30  60670000000  2010   \n",
       "122  THE BOEING COMPANY  12927  Liabilities 2010-12-31  65703000000  2010   \n",
       "123  THE BOEING COMPANY  12927  Liabilities 2011-06-30  67295000000  2011   \n",
       "\n",
       "    quarter  \n",
       "117      Q4  \n",
       "118      Q2  \n",
       "119      Q3  \n",
       "122      Q4  \n",
       "123      Q2  "
      ]
     },
     "execution_count": 18,
     "metadata": {},
     "output_type": "execute_result"
    }
   ],
   "source": [
    "liabilities_data.head(5)"
   ]
  },
  {
   "cell_type": "code",
   "execution_count": 33,
   "id": "5ecb54bb-9685-4935-922b-1ac314072598",
   "metadata": {},
   "outputs": [
    {
     "name": "stdout",
     "output_type": "stream",
     "text": [
      "           CIK                            end           val\n",
      "count     26.0                             26  2.600000e+01\n",
      "mean   12927.0  2017-11-17 23:04:36.923076864  1.233592e+11\n",
      "min    12927.0            2009-12-31 00:00:00  5.982800e+10\n",
      "25%    12927.0            2012-01-22 18:00:00  7.523950e+10\n",
      "50%    12927.0            2020-08-15 00:00:00  1.506340e+11\n",
      "75%    12927.0            2022-03-08 12:00:00  1.547442e+11\n",
      "max    12927.0            2023-09-30 00:00:00  1.742540e+11\n",
      "std        0.0                            NaN  4.501617e+10\n"
     ]
    },
    {
     "data": {
      "image/png": "[encoded data removed]",
      "text/plain": [
       "<Figure size 640x480 with 1 Axes>"
      ]
     },
     "metadata": {},
     "output_type": "display_data"
    }
   ],
   "source": [
    "print(liabilities_data.describe())\n",
    "liabilities_data.plot(x='end', y='val', title='Liabilities Over Time')\n",
    "plt.show()\n"
   ]
  },
  {
   "cell_type": "markdown",
   "id": "29d731d1-ccd0-4b1a-9103-4a1088590d49",
   "metadata": {},
   "source": [
    "# Merge the Data"
   ]
  },
  {
   "cell_type": "code",
   "execution_count": 34,
   "id": "b4c828d8",
   "metadata": {},
   "outputs": [],
   "source": [
    "df_merged = pd.merge(assets_data, stockholders_equity_data, \n",
    "                     on=['EntityName', 'CIK', 'end', 'year', 'quarter'], \n",
    "                     how='outer', suffixes=('_assets', '_stockholders_equity'))"
   ]
  },
  {
   "cell_type": "code",
   "execution_count": 36,
   "id": "4a5d22a6-6b11-4756-ade1-bd80735d4daf",
   "metadata": {},
   "outputs": [],
   "source": [
    "df_merged = pd.merge(df_merged, liabilities_data, \n",
    "                     on=['EntityName', 'CIK', 'end', 'year', 'quarter'], \n",
    "                     how='outer')\n",
    "                     "
   ]
  },
  {
   "cell_type": "code",
   "execution_count": 37,
   "id": "6e06dc61-008d-4836-bfae-125f8cd65291",
   "metadata": {},
   "outputs": [],
   "source": [
    "df_merged.rename(columns={'val_assets': 'Assets', \n",
    "                          'val_stockholders_equity': 'StockholdersEquity', \n",
    "                          'val': 'Liabilities'}, inplace=True)"
   ]
  },
  {
   "cell_type": "code",
   "execution_count": 38,
   "id": "2430b743-71c8-46d4-8c65-8a9c99d56bb5",
   "metadata": {
    "scrolled": true
   },
   "outputs": [
    {
     "data": {
      "text/html": [
       "<div>\n",
       "<style scoped>\n",
       "    .dataframe tbody tr th:only-of-type {\n",
       "        vertical-align: middle;\n",
       "    }\n",
       "\n",
       "    .dataframe tbody tr th {\n",
       "        vertical-align: top;\n",
       "    }\n",
       "\n",
       "    .dataframe thead th {\n",
       "        text-align: right;\n",
       "    }\n",
       "</style>\n",
       "<table border=\"1\" class=\"dataframe\">\n",
       "  <thead>\n",
       "    <tr style=\"text-align: right;\">\n",
       "      <th></th>\n",
       "      <th>EntityName</th>\n",
       "      <th>CIK</th>\n",
       "      <th>Metric_assets</th>\n",
       "      <th>end</th>\n",
       "      <th>Assets</th>\n",
       "      <th>year</th>\n",
       "      <th>quarter</th>\n",
       "      <th>Metric_stockholders_equity</th>\n",
       "      <th>StockholdersEquity</th>\n",
       "      <th>Metric</th>\n",
       "      <th>Liabilities</th>\n",
       "    </tr>\n",
       "  </thead>\n",
       "  <tbody>\n",
       "    <tr>\n",
       "      <th>0</th>\n",
       "      <td>THE BOEING COMPANY</td>\n",
       "      <td>12927</td>\n",
       "      <td>Assets</td>\n",
       "      <td>2008-12-31</td>\n",
       "      <td>53779000000</td>\n",
       "      <td>2008</td>\n",
       "      <td>Q4</td>\n",
       "      <td>StockholdersEquity</td>\n",
       "      <td>-1294000000</td>\n",
       "      <td>NaN</td>\n",
       "      <td>NaN</td>\n",
       "    </tr>\n",
       "    <tr>\n",
       "      <th>1</th>\n",
       "      <td>THE BOEING COMPANY</td>\n",
       "      <td>12927</td>\n",
       "      <td>Assets</td>\n",
       "      <td>2009-06-30</td>\n",
       "      <td>57712000000</td>\n",
       "      <td>2009</td>\n",
       "      <td>Q2</td>\n",
       "      <td>StockholdersEquity</td>\n",
       "      <td>180000000</td>\n",
       "      <td>NaN</td>\n",
       "      <td>NaN</td>\n",
       "    </tr>\n",
       "    <tr>\n",
       "      <th>2</th>\n",
       "      <td>THE BOEING COMPANY</td>\n",
       "      <td>12927</td>\n",
       "      <td>Assets</td>\n",
       "      <td>2009-09-30</td>\n",
       "      <td>58667000000</td>\n",
       "      <td>2009</td>\n",
       "      <td>Q3</td>\n",
       "      <td>StockholdersEquity</td>\n",
       "      <td>-1028000000</td>\n",
       "      <td>NaN</td>\n",
       "      <td>NaN</td>\n",
       "    </tr>\n",
       "    <tr>\n",
       "      <th>3</th>\n",
       "      <td>THE BOEING COMPANY</td>\n",
       "      <td>12927</td>\n",
       "      <td>Assets</td>\n",
       "      <td>2009-12-31</td>\n",
       "      <td>62053000000</td>\n",
       "      <td>2009</td>\n",
       "      <td>Q4</td>\n",
       "      <td>StockholdersEquity</td>\n",
       "      <td>2128000000</td>\n",
       "      <td>Liabilities</td>\n",
       "      <td>5.982800e+10</td>\n",
       "    </tr>\n",
       "    <tr>\n",
       "      <th>4</th>\n",
       "      <td>THE BOEING COMPANY</td>\n",
       "      <td>12927</td>\n",
       "      <td>Assets</td>\n",
       "      <td>2010-03-31</td>\n",
       "      <td>62970000000</td>\n",
       "      <td>2010</td>\n",
       "      <td>Q1</td>\n",
       "      <td>StockholdersEquity</td>\n",
       "      <td>2942000000</td>\n",
       "      <td>NaN</td>\n",
       "      <td>NaN</td>\n",
       "    </tr>\n",
       "  </tbody>\n",
       "</table>\n",
       "</div>"
      ],
      "text/plain": [
       "           EntityName    CIK Metric_assets        end       Assets  year  \\\n",
       "0  THE BOEING COMPANY  12927        Assets 2008-12-31  53779000000  2008   \n",
       "1  THE BOEING COMPANY  12927        Assets 2009-06-30  57712000000  2009   \n",
       "2  THE BOEING COMPANY  12927        Assets 2009-09-30  58667000000  2009   \n",
       "3  THE BOEING COMPANY  12927        Assets 2009-12-31  62053000000  2009   \n",
       "4  THE BOEING COMPANY  12927        Assets 2010-03-31  62970000000  2010   \n",
       "\n",
       "  quarter Metric_stockholders_equity  StockholdersEquity       Metric  \\\n",
       "0      Q4         StockholdersEquity         -1294000000          NaN   \n",
       "1      Q2         StockholdersEquity           180000000          NaN   \n",
       "2      Q3         StockholdersEquity         -1028000000          NaN   \n",
       "3      Q4         StockholdersEquity          2128000000  Liabilities   \n",
       "4      Q1         StockholdersEquity          2942000000          NaN   \n",
       "\n",
       "    Liabilities  \n",
       "0           NaN  \n",
       "1           NaN  \n",
       "2           NaN  \n",
       "3  5.982800e+10  \n",
       "4           NaN  "
      ]
     },
     "execution_count": 38,
     "metadata": {},
     "output_type": "execute_result"
    }
   ],
   "source": [
    "df_merged.head(5)"
   ]
  },
  {
   "cell_type": "markdown",
   "id": "aa7aa6d9-fd49-4662-970f-80e9994b9bed",
   "metadata": {},
   "source": [
    "# Calculation"
   ]
  },
  {
   "cell_type": "markdown",
   "id": "c7636ad8-cc2c-40b5-b153-e5f4d0c5bb92",
   "metadata": {},
   "source": [
    "**Assets and Liabilities:**\n",
    "    \n",
    "    - `Assets`\n",
    "    - `Liabilities`\n",
    "    - `StockholdersEquity` (Equity)\n",
    "    - **Calculation:** To assess financial health, compare total assets against total liabilities. The equity figure provides additional context."
   ]
  },
  {
   "cell_type": "code",
   "execution_count": 39,
   "id": "1774c3f5-c93a-4448-ba83-24e97faf91e2",
   "metadata": {},
   "outputs": [],
   "source": [
    "# Start by creating a copy of the DataFrame to avoid SettingWithCopyWarning\n",
    "df_final = df_merged.copy()"
   ]
  },
  {
   "cell_type": "code",
   "execution_count": 40,
   "id": "d8bb8465-18e3-4881-9b08-f6d522caf582",
   "metadata": {},
   "outputs": [],
   "source": [
    "# Convert financial values from cents to millions for readability\n",
    "df_final['Assets'] /= 1000000\n",
    "df_final['StockholdersEquity'] /= 1000000\n",
    "df_final['Liabilities'] /= 1000000"
   ]
  },
  {
   "cell_type": "code",
   "execution_count": 41,
   "id": "213d50ee-2c89-41f9-bb7b-7d80083b2ac9",
   "metadata": {},
   "outputs": [],
   "source": [
    "# Calculate Asset to Liability Ratio and Debt to Equity Ratio where data is available\n",
    "df_final['AssetToLiabilityRatio'] = df_final.apply(lambda row: row['Assets'] / row['Liabilities'] if pd.notna(row['Liabilities']) else None, axis=1)\n",
    "df_final['DebtToEquityRatio'] = df_final.apply(lambda row: row['Liabilities'] / row['StockholdersEquity'] if pd.notna(row['Liabilities']) and pd.notna(row['StockholdersEquity']) else None, axis=1)\n"
   ]
  },
  {
   "cell_type": "code",
   "execution_count": 42,
   "id": "db15060c-e0e5-44f0-ab8a-37642f31a8a1",
   "metadata": {},
   "outputs": [],
   "source": [
    "# Selecting and renaming columns to match the desired format\n",
    "df_final = df_final[['EntityName', 'CIK', 'end', 'Assets', 'Liabilities', 'StockholdersEquity', 'AssetToLiabilityRatio', 'DebtToEquityRatio', 'year', 'quarter']]\n"
   ]
  },
  {
   "cell_type": "code",
   "execution_count": 43,
   "id": "0a8fd9a7-b484-473a-a96c-7ed64ba10976",
   "metadata": {},
   "outputs": [],
   "source": [
    "df_copy = df_final.copy()\n",
    "df_copy.rename(columns={'EntityName': 'ENTITY', 'end': 'DATE', 'year': 'Year', 'quarter': 'Quarter'}, inplace=True)"
   ]
  },
  {
   "cell_type": "code",
   "execution_count": 44,
   "id": "4f4b87fa",
   "metadata": {},
   "outputs": [
    {
     "data": {
      "text/html": [
       "<div>\n",
       "<style scoped>\n",
       "    .dataframe tbody tr th:only-of-type {\n",
       "        vertical-align: middle;\n",
       "    }\n",
       "\n",
       "    .dataframe tbody tr th {\n",
       "        vertical-align: top;\n",
       "    }\n",
       "\n",
       "    .dataframe thead th {\n",
       "        text-align: right;\n",
       "    }\n",
       "</style>\n",
       "<table border=\"1\" class=\"dataframe\">\n",
       "  <thead>\n",
       "    <tr style=\"text-align: right;\">\n",
       "      <th></th>\n",
       "      <th>ENTITY</th>\n",
       "      <th>CIK</th>\n",
       "      <th>DATE</th>\n",
       "      <th>Assets</th>\n",
       "      <th>Liabilities</th>\n",
       "      <th>StockholdersEquity</th>\n",
       "      <th>AssetToLiabilityRatio</th>\n",
       "      <th>DebtToEquityRatio</th>\n",
       "      <th>Year</th>\n",
       "      <th>Quareter</th>\n",
       "    </tr>\n",
       "  </thead>\n",
       "  <tbody>\n",
       "    <tr>\n",
       "      <th>0</th>\n",
       "      <td>THE BOEING COMPANY</td>\n",
       "      <td>12927</td>\n",
       "      <td>2008-12-31</td>\n",
       "      <td>53779.0</td>\n",
       "      <td>NaN</td>\n",
       "      <td>-1294.0</td>\n",
       "      <td>NaN</td>\n",
       "      <td>NaN</td>\n",
       "      <td>2008</td>\n",
       "      <td>Q4</td>\n",
       "    </tr>\n",
       "    <tr>\n",
       "      <th>1</th>\n",
       "      <td>THE BOEING COMPANY</td>\n",
       "      <td>12927</td>\n",
       "      <td>2009-06-30</td>\n",
       "      <td>57712.0</td>\n",
       "      <td>NaN</td>\n",
       "      <td>180.0</td>\n",
       "      <td>NaN</td>\n",
       "      <td>NaN</td>\n",
       "      <td>2009</td>\n",
       "      <td>Q2</td>\n",
       "    </tr>\n",
       "    <tr>\n",
       "      <th>2</th>\n",
       "      <td>THE BOEING COMPANY</td>\n",
       "      <td>12927</td>\n",
       "      <td>2009-09-30</td>\n",
       "      <td>58667.0</td>\n",
       "      <td>NaN</td>\n",
       "      <td>-1028.0</td>\n",
       "      <td>NaN</td>\n",
       "      <td>NaN</td>\n",
       "      <td>2009</td>\n",
       "      <td>Q3</td>\n",
       "    </tr>\n",
       "    <tr>\n",
       "      <th>3</th>\n",
       "      <td>THE BOEING COMPANY</td>\n",
       "      <td>12927</td>\n",
       "      <td>2009-12-31</td>\n",
       "      <td>62053.0</td>\n",
       "      <td>59828.0</td>\n",
       "      <td>2128.0</td>\n",
       "      <td>1.03719</td>\n",
       "      <td>28.114662</td>\n",
       "      <td>2009</td>\n",
       "      <td>Q4</td>\n",
       "    </tr>\n",
       "    <tr>\n",
       "      <th>4</th>\n",
       "      <td>THE BOEING COMPANY</td>\n",
       "      <td>12927</td>\n",
       "      <td>2010-03-31</td>\n",
       "      <td>62970.0</td>\n",
       "      <td>NaN</td>\n",
       "      <td>2942.0</td>\n",
       "      <td>NaN</td>\n",
       "      <td>NaN</td>\n",
       "      <td>2010</td>\n",
       "      <td>Q1</td>\n",
       "    </tr>\n",
       "  </tbody>\n",
       "</table>\n",
       "</div>"
      ],
      "text/plain": [
       "               ENTITY    CIK       DATE   Assets  Liabilities  \\\n",
       "0  THE BOEING COMPANY  12927 2008-12-31  53779.0          NaN   \n",
       "1  THE BOEING COMPANY  12927 2009-06-30  57712.0          NaN   \n",
       "2  THE BOEING COMPANY  12927 2009-09-30  58667.0          NaN   \n",
       "3  THE BOEING COMPANY  12927 2009-12-31  62053.0      59828.0   \n",
       "4  THE BOEING COMPANY  12927 2010-03-31  62970.0          NaN   \n",
       "\n",
       "   StockholdersEquity  AssetToLiabilityRatio  DebtToEquityRatio  Year Quareter  \n",
       "0             -1294.0                    NaN                NaN  2008       Q4  \n",
       "1               180.0                    NaN                NaN  2009       Q2  \n",
       "2             -1028.0                    NaN                NaN  2009       Q3  \n",
       "3              2128.0                1.03719          28.114662  2009       Q4  \n",
       "4              2942.0                    NaN                NaN  2010       Q1  "
      ]
     },
     "execution_count": 44,
     "metadata": {},
     "output_type": "execute_result"
    }
   ],
   "source": [
    "df_copy.head()"
   ]
  },
  {
   "cell_type": "markdown",
   "id": "911cf03e-2324-4222-8b0e-54a80d8a1905",
   "metadata": {},
   "source": [
    "# Visualization"
   ]
  },
  {
   "cell_type": "code",
   "execution_count": 45,
   "id": "d061400c-400a-4974-a552-cff111ff7922",
   "metadata": {},
   "outputs": [
    {
     "data": {
      "application/vnd.plotly.v1+json": {
       "config": {
        "plotlyServerURL": "https://plot.ly"
       },
       "data": [
        {
         "marker": {
          "color": "blue"
         },
         "name": "Assets",
         "type": "bar",
         "x": [
          "2008-12-31T00:00:00",
          "2009-06-30T00:00:00",
          "2009-09-30T00:00:00",
          "2009-12-31T00:00:00",
          "2010-03-31T00:00:00",
          "2010-06-30T00:00:00",
          "2010-09-30T00:00:00",
          "2010-12-31T00:00:00",
          "2011-03-31T00:00:00",
          "2011-06-30T00:00:00",
          "2011-09-30T00:00:00",
          "2011-12-31T00:00:00",
          "2012-03-31T00:00:00",
          "2012-06-30T00:00:00",
          "2012-09-30T00:00:00",
          "2012-12-31T00:00:00",
          "2013-03-31T00:00:00",
          "2013-06-30T00:00:00",
          "2013-09-30T00:00:00",
          "2013-12-31T00:00:00",
          "2014-03-31T00:00:00",
          "2014-06-30T00:00:00",
          "2014-09-30T00:00:00",
          "2014-12-31T00:00:00",
          "2015-03-31T00:00:00",
          "2015-06-30T00:00:00",
          "2015-09-30T00:00:00",
          "2015-12-31T00:00:00",
          "2016-03-31T00:00:00",
          "2016-06-30T00:00:00",
          "2016-09-30T00:00:00",
          "2016-12-31T00:00:00",
          "2017-03-31T00:00:00",
          "2017-06-30T00:00:00",
          "2017-09-30T00:00:00",
          "2017-12-31T00:00:00",
          "2018-03-31T00:00:00",
          "2018-06-30T00:00:00",
          "2018-09-30T00:00:00",
          "2018-12-31T00:00:00",
          "2019-03-31T00:00:00",
          "2019-06-30T00:00:00",
          "2019-09-30T00:00:00",
          "2019-12-31T00:00:00",
          "2020-03-31T00:00:00",
          "2020-06-30T00:00:00",
          "2020-09-30T00:00:00",
          "2020-12-31T00:00:00",
          "2021-03-31T00:00:00",
          "2021-06-30T00:00:00",
          "2021-09-30T00:00:00",
          "2021-12-31T00:00:00",
          "2022-03-31T00:00:00",
          "2022-06-30T00:00:00",
          "2022-09-30T00:00:00",
          "2022-12-31T00:00:00",
          "2023-03-31T00:00:00",
          "2023-06-30T00:00:00",
          "2023-09-30T00:00:00"
         ],
         "y": [
          53779,
          57712,
          58667,
          62053,
          62970,
          63755,
          65222,
          68565,
          68760,
          72119,
          74163,
          79986,
          80205,
          81595,
          83654,
          88896,
          90447,
          92091,
          94633,
          92663,
          91575,
          92737,
          92653,
          92921,
          97775,
          98102,
          98998,
          94408,
          91547,
          89609,
          88950,
          89997,
          89673,
          90036,
          91007,
          112362,
          113549,
          113195,
          114659,
          117359,
          120209,
          126261,
          132598,
          133625,
          143075,
          162872,
          161261,
          152136,
          150035,
          148935,
          146846,
          138552,
          135801,
          135479,
          137558,
          137100,
          136347,
          134774,
          134281
         ]
        },
        {
         "marker": {
          "color": "red"
         },
         "name": "Liabilities",
         "type": "bar",
         "x": [
          "2008-12-31T00:00:00",
          "2009-06-30T00:00:00",
          "2009-09-30T00:00:00",
          "2009-12-31T00:00:00",
          "2010-03-31T00:00:00",
          "2010-06-30T00:00:00",
          "2010-09-30T00:00:00",
          "2010-12-31T00:00:00",
          "2011-03-31T00:00:00",
          "2011-06-30T00:00:00",
          "2011-09-30T00:00:00",
          "2011-12-31T00:00:00",
          "2012-03-31T00:00:00",
          "2012-06-30T00:00:00",
          "2012-09-30T00:00:00",
          "2012-12-31T00:00:00",
          "2013-03-31T00:00:00",
          "2013-06-30T00:00:00",
          "2013-09-30T00:00:00",
          "2013-12-31T00:00:00",
          "2014-03-31T00:00:00",
          "2014-06-30T00:00:00",
          "2014-09-30T00:00:00",
          "2014-12-31T00:00:00",
          "2015-03-31T00:00:00",
          "2015-06-30T00:00:00",
          "2015-09-30T00:00:00",
          "2015-12-31T00:00:00",
          "2016-03-31T00:00:00",
          "2016-06-30T00:00:00",
          "2016-09-30T00:00:00",
          "2016-12-31T00:00:00",
          "2017-03-31T00:00:00",
          "2017-06-30T00:00:00",
          "2017-09-30T00:00:00",
          "2017-12-31T00:00:00",
          "2018-03-31T00:00:00",
          "2018-06-30T00:00:00",
          "2018-09-30T00:00:00",
          "2018-12-31T00:00:00",
          "2019-03-31T00:00:00",
          "2019-06-30T00:00:00",
          "2019-09-30T00:00:00",
          "2019-12-31T00:00:00",
          "2020-03-31T00:00:00",
          "2020-06-30T00:00:00",
          "2020-09-30T00:00:00",
          "2020-12-31T00:00:00",
          "2021-03-31T00:00:00",
          "2021-06-30T00:00:00",
          "2021-09-30T00:00:00",
          "2021-12-31T00:00:00",
          "2022-03-31T00:00:00",
          "2022-06-30T00:00:00",
          "2022-09-30T00:00:00",
          "2022-12-31T00:00:00",
          "2023-03-31T00:00:00",
          "2023-06-30T00:00:00",
          "2023-09-30T00:00:00"
         ],
         "y": [
          null,
          null,
          null,
          59828,
          null,
          60582,
          60670,
          65703,
          null,
          67295,
          68102,
          76378,
          75085,
          75703,
          75972,
          null,
          null,
          null,
          null,
          null,
          null,
          null,
          null,
          null,
          null,
          null,
          null,
          null,
          null,
          null,
          null,
          null,
          null,
          null,
          null,
          null,
          null,
          null,
          null,
          null,
          null,
          null,
          null,
          141925,
          152435,
          174254,
          172814,
          170211,
          167876,
          165420,
          161112,
          153398,
          151069,
          150270,
          155193,
          152948,
          151831,
          150267,
          150998
         ]
        },
        {
         "marker": {
          "color": "green"
         },
         "name": "Stockholders Equity",
         "type": "bar",
         "x": [
          "2008-12-31T00:00:00",
          "2009-06-30T00:00:00",
          "2009-09-30T00:00:00",
          "2009-12-31T00:00:00",
          "2010-03-31T00:00:00",
          "2010-06-30T00:00:00",
          "2010-09-30T00:00:00",
          "2010-12-31T00:00:00",
          "2011-03-31T00:00:00",
          "2011-06-30T00:00:00",
          "2011-09-30T00:00:00",
          "2011-12-31T00:00:00",
          "2012-03-31T00:00:00",
          "2012-06-30T00:00:00",
          "2012-09-30T00:00:00",
          "2012-12-31T00:00:00",
          "2013-03-31T00:00:00",
          "2013-06-30T00:00:00",
          "2013-09-30T00:00:00",
          "2013-12-31T00:00:00",
          "2014-03-31T00:00:00",
          "2014-06-30T00:00:00",
          "2014-09-30T00:00:00",
          "2014-12-31T00:00:00",
          "2015-03-31T00:00:00",
          "2015-06-30T00:00:00",
          "2015-09-30T00:00:00",
          "2015-12-31T00:00:00",
          "2016-03-31T00:00:00",
          "2016-06-30T00:00:00",
          "2016-09-30T00:00:00",
          "2016-12-31T00:00:00",
          "2017-03-31T00:00:00",
          "2017-06-30T00:00:00",
          "2017-09-30T00:00:00",
          "2017-12-31T00:00:00",
          "2018-03-31T00:00:00",
          "2018-06-30T00:00:00",
          "2018-09-30T00:00:00",
          "2018-12-31T00:00:00",
          "2019-03-31T00:00:00",
          "2019-06-30T00:00:00",
          "2019-09-30T00:00:00",
          "2019-12-31T00:00:00",
          "2020-03-31T00:00:00",
          "2020-06-30T00:00:00",
          "2020-09-30T00:00:00",
          "2020-12-31T00:00:00",
          "2021-03-31T00:00:00",
          "2021-06-30T00:00:00",
          "2021-09-30T00:00:00",
          "2021-12-31T00:00:00",
          "2022-03-31T00:00:00",
          "2022-06-30T00:00:00",
          "2022-09-30T00:00:00",
          "2022-12-31T00:00:00",
          "2023-03-31T00:00:00",
          "2023-06-30T00:00:00",
          "2023-09-30T00:00:00"
         ],
         "y": [
          -1294,
          180,
          -1028,
          2128,
          2942,
          3077,
          4454,
          2766,
          3912,
          4733,
          5967,
          3515,
          5027,
          5804,
          7588,
          5867,
          7462,
          7526,
          8951,
          14875,
          14520,
          14061,
          14511,
          8665,
          7906,
          6264,
          6740,
          6335,
          4043,
          585,
          2089,
          817,
          95,
          -2037,
          1086,
          1656,
          1222,
          -1441,
          -1289,
          339,
          125,
          -5322,
          -4116,
          -8617,
          -9665,
          -11667,
          -11821,
          -18316,
          -18058,
          -16682,
          -14440,
          -14999,
          -15398,
          -14888,
          -17699,
          -15883,
          -15508,
          -15517,
          -16729
         ]
        }
       ],
       "layout": {
        "bargap": 0.15,
        "bargroupgap": 0.1,
        "barmode": "stack",
        "legend": {
         "bgcolor": "rgba(255, 255, 255, 0)",
         "bordercolor": "rgba(255, 255, 255, 0)",
         "x": 0,
         "y": 1
        },
        "template": {
         "data": {
          "bar": [
           {
            "error_x": {
             "color": "#2a3f5f"
            },
            "error_y": {
             "color": "#2a3f5f"
            },
            "marker": {
             "line": {
              "color": "#E5ECF6",
              "width": 0.5
             },
             "pattern": {
              "fillmode": "overlay",
              "size": 10,
              "solidity": 0.2
             }
            },
            "type": "bar"
           }
          ],
          "barpolar": [
           {
            "marker": {
             "line": {
              "color": "#E5ECF6",
              "width": 0.5
             },
             "pattern": {
              "fillmode": "overlay",
              "size": 10,
              "solidity": 0.2
             }
            },
            "type": "barpolar"
           }
          ],
          "carpet": [
           {
            "aaxis": {
             "endlinecolor": "#2a3f5f",
             "gridcolor": "white",
             "linecolor": "white",
             "minorgridcolor": "white",
             "startlinecolor": "#2a3f5f"
            },
            "baxis": {
             "endlinecolor": "#2a3f5f",
             "gridcolor": "white",
             "linecolor": "white",
             "minorgridcolor": "white",
             "startlinecolor": "#2a3f5f"
            },
            "type": "carpet"
           }
          ],
          "choropleth": [
           {
            "colorbar": {
             "outlinewidth": 0,
             "ticks": ""
            },
            "type": "choropleth"
           }
          ],
          "contour": [
           {
            "colorbar": {
             "outlinewidth": 0,
             "ticks": ""
            },
            "colorscale": [
             [
              0,
              "#0d0887"
             ],
             [
              0.1111111111111111,
              "#46039f"
             ],
             [
              0.2222222222222222,
              "#7201a8"
             ],
             [
              0.3333333333333333,
              "#9c179e"
             ],
             [
              0.4444444444444444,
              "#bd3786"
             ],
             [
              0.5555555555555556,
              "#d8576b"
             ],
             [
              0.6666666666666666,
              "#ed7953"
             ],
             [
              0.7777777777777778,
              "#fb9f3a"
             ],
             [
              0.8888888888888888,
              "#fdca26"
             ],
             [
              1,
              "#f0f921"
             ]
            ],
            "type": "contour"
           }
          ],
          "contourcarpet": [
           {
            "colorbar": {
             "outlinewidth": 0,
             "ticks": ""
            },
            "type": "contourcarpet"
           }
          ],
          "heatmap": [
           {
            "colorbar": {
             "outlinewidth": 0,
             "ticks": ""
            },
            "colorscale": [
             [
              0,
              "#0d0887"
             ],
             [
              0.1111111111111111,
              "#46039f"
             ],
             [
              0.2222222222222222,
              "#7201a8"
             ],
             [
              0.3333333333333333,
              "#9c179e"
             ],
             [
              0.4444444444444444,
              "#bd3786"
             ],
             [
              0.5555555555555556,
              "#d8576b"
             ],
             [
              0.6666666666666666,
              "#ed7953"
             ],
             [
              0.7777777777777778,
              "#fb9f3a"
             ],
             [
              0.8888888888888888,
              "#fdca26"
             ],
             [
              1,
              "#f0f921"
             ]
            ],
            "type": "heatmap"
           }
          ],
          "heatmapgl": [
           {
            "colorbar": {
             "outlinewidth": 0,
             "ticks": ""
            },
            "colorscale": [
             [
              0,
              "#0d0887"
             ],
             [
              0.1111111111111111,
              "#46039f"
             ],
             [
              0.2222222222222222,
              "#7201a8"
             ],
             [
              0.3333333333333333,
              "#9c179e"
             ],
             [
              0.4444444444444444,
              "#bd3786"
             ],
             [
              0.5555555555555556,
              "#d8576b"
             ],
             [
              0.6666666666666666,
              "#ed7953"
             ],
             [
              0.7777777777777778,
              "#fb9f3a"
             ],
             [
              0.8888888888888888,
              "#fdca26"
             ],
             [
              1,
              "#f0f921"
             ]
            ],
            "type": "heatmapgl"
           }
          ],
          "histogram": [
           {
            "marker": {
             "pattern": {
              "fillmode": "overlay",
              "size": 10,
              "solidity": 0.2
             }
            },
            "type": "histogram"
           }
          ],
          "histogram2d": [
           {
            "colorbar": {
             "outlinewidth": 0,
             "ticks": ""
            },
            "colorscale": [
             [
              0,
              "#0d0887"
             ],
             [
              0.1111111111111111,
              "#46039f"
             ],
             [
              0.2222222222222222,
              "#7201a8"
             ],
             [
              0.3333333333333333,
              "#9c179e"
             ],
             [
              0.4444444444444444,
              "#bd3786"
             ],
             [
              0.5555555555555556,
              "#d8576b"
             ],
             [
              0.6666666666666666,
              "#ed7953"
             ],
             [
              0.7777777777777778,
              "#fb9f3a"
             ],
             [
              0.8888888888888888,
              "#fdca26"
             ],
             [
              1,
              "#f0f921"
             ]
            ],
            "type": "histogram2d"
           }
          ],
          "histogram2dcontour": [
           {
            "colorbar": {
             "outlinewidth": 0,
             "ticks": ""
            },
            "colorscale": [
             [
              0,
              "#0d0887"
             ],
             [
              0.1111111111111111,
              "#46039f"
             ],
             [
              0.2222222222222222,
              "#7201a8"
             ],
             [
              0.3333333333333333,
              "#9c179e"
             ],
             [
              0.4444444444444444,
              "#bd3786"
             ],
             [
              0.5555555555555556,
              "#d8576b"
             ],
             [
              0.6666666666666666,
              "#ed7953"
             ],
             [
              0.7777777777777778,
              "#fb9f3a"
             ],
             [
              0.8888888888888888,
              "#fdca26"
             ],
             [
              1,
              "#f0f921"
             ]
            ],
            "type": "histogram2dcontour"
           }
          ],
          "mesh3d": [
           {
            "colorbar": {
             "outlinewidth": 0,
             "ticks": ""
            },
            "type": "mesh3d"
           }
          ],
          "parcoords": [
           {
            "line": {
             "colorbar": {
              "outlinewidth": 0,
              "ticks": ""
             }
            },
            "type": "parcoords"
           }
          ],
          "pie": [
           {
            "automargin": true,
            "type": "pie"
           }
          ],
          "scatter": [
           {
            "fillpattern": {
             "fillmode": "overlay",
             "size": 10,
             "solidity": 0.2
            },
            "type": "scatter"
           }
          ],
          "scatter3d": [
           {
            "line": {
             "colorbar": {
              "outlinewidth": 0,
              "ticks": ""
             }
            },
            "marker": {
             "colorbar": {
              "outlinewidth": 0,
              "ticks": ""
             }
            },
            "type": "scatter3d"
           }
          ],
          "scattercarpet": [
           {
            "marker": {
             "colorbar": {
              "outlinewidth": 0,
              "ticks": ""
             }
            },
            "type": "scattercarpet"
           }
          ],
          "scattergeo": [
           {
            "marker": {
             "colorbar": {
              "outlinewidth": 0,
              "ticks": ""
             }
            },
            "type": "scattergeo"
           }
          ],
          "scattergl": [
           {
            "marker": {
             "colorbar": {
              "outlinewidth": 0,
              "ticks": ""
             }
            },
            "type": "scattergl"
           }
          ],
          "scattermapbox": [
           {
            "marker": {
             "colorbar": {
              "outlinewidth": 0,
              "ticks": ""
             }
            },
            "type": "scattermapbox"
           }
          ],
          "scatterpolar": [
           {
            "marker": {
             "colorbar": {
              "outlinewidth": 0,
              "ticks": ""
             }
            },
            "type": "scatterpolar"
           }
          ],
          "scatterpolargl": [
           {
            "marker": {
             "colorbar": {
              "outlinewidth": 0,
              "ticks": ""
             }
            },
            "type": "scatterpolargl"
           }
          ],
          "scatterternary": [
           {
            "marker": {
             "colorbar": {
              "outlinewidth": 0,
              "ticks": ""
             }
            },
            "type": "scatterternary"
           }
          ],
          "surface": [
           {
            "colorbar": {
             "outlinewidth": 0,
             "ticks": ""
            },
            "colorscale": [
             [
              0,
              "#0d0887"
             ],
             [
              0.1111111111111111,
              "#46039f"
             ],
             [
              0.2222222222222222,
              "#7201a8"
             ],
             [
              0.3333333333333333,
              "#9c179e"
             ],
             [
              0.4444444444444444,
              "#bd3786"
             ],
             [
              0.5555555555555556,
              "#d8576b"
             ],
             [
              0.6666666666666666,
              "#ed7953"
             ],
             [
              0.7777777777777778,
              "#fb9f3a"
             ],
             [
              0.8888888888888888,
              "#fdca26"
             ],
             [
              1,
              "#f0f921"
             ]
            ],
            "type": "surface"
           }
          ],
          "table": [
           {
            "cells": {
             "fill": {
              "color": "#EBF0F8"
             },
             "line": {
              "color": "white"
             }
            },
            "header": {
             "fill": {
              "color": "#C8D4E3"
             },
             "line": {
              "color": "white"
             }
            },
            "type": "table"
           }
          ]
         },
         "layout": {
          "annotationdefaults": {
           "arrowcolor": "#2a3f5f",
           "arrowhead": 0,
           "arrowwidth": 1
          },
          "autotypenumbers": "strict",
          "coloraxis": {
           "colorbar": {
            "outlinewidth": 0,
            "ticks": ""
           }
          },
          "colorscale": {
           "diverging": [
            [
             0,
             "#8e0152"
            ],
            [
             0.1,
             "#c51b7d"
            ],
            [
             0.2,
             "#de77ae"
            ],
            [
             0.3,
             "#f1b6da"
            ],
            [
             0.4,
             "#fde0ef"
            ],
            [
             0.5,
             "#f7f7f7"
            ],
            [
             0.6,
             "#e6f5d0"
            ],
            [
             0.7,
             "#b8e186"
            ],
            [
             0.8,
             "#7fbc41"
            ],
            [
             0.9,
             "#4d9221"
            ],
            [
             1,
             "#276419"
            ]
           ],
           "sequential": [
            [
             0,
             "#0d0887"
            ],
            [
             0.1111111111111111,
             "#46039f"
            ],
            [
             0.2222222222222222,
             "#7201a8"
            ],
            [
             0.3333333333333333,
             "#9c179e"
            ],
            [
             0.4444444444444444,
             "#bd3786"
            ],
            [
             0.5555555555555556,
             "#d8576b"
            ],
            [
             0.6666666666666666,
             "#ed7953"
            ],
            [
             0.7777777777777778,
             "#fb9f3a"
            ],
            [
             0.8888888888888888,
             "#fdca26"
            ],
            [
             1,
             "#f0f921"
            ]
           ],
           "sequentialminus": [
            [
             0,
             "#0d0887"
            ],
            [
             0.1111111111111111,
             "#46039f"
            ],
            [
             0.2222222222222222,
             "#7201a8"
            ],
            [
             0.3333333333333333,
             "#9c179e"
            ],
            [
             0.4444444444444444,
             "#bd3786"
            ],
            [
             0.5555555555555556,
             "#d8576b"
            ],
            [
             0.6666666666666666,
             "#ed7953"
            ],
            [
             0.7777777777777778,
             "#fb9f3a"
            ],
            [
             0.8888888888888888,
             "#fdca26"
            ],
            [
             1,
             "#f0f921"
            ]
           ]
          },
          "colorway": [
           "#636efa",
           "#EF553B",
           "#00cc96",
           "#ab63fa",
           "#FFA15A",
           "#19d3f3",
           "#FF6692",
           "#B6E880",
           "#FF97FF",
           "#FECB52"
          ],
          "font": {
           "color": "#2a3f5f"
          },
          "geo": {
           "bgcolor": "white",
           "lakecolor": "white",
           "landcolor": "#E5ECF6",
           "showlakes": true,
           "showland": true,
           "subunitcolor": "white"
          },
          "hoverlabel": {
           "align": "left"
          },
          "hovermode": "closest",
          "mapbox": {
           "style": "light"
          },
          "paper_bgcolor": "white",
          "plot_bgcolor": "#E5ECF6",
          "polar": {
           "angularaxis": {
            "gridcolor": "white",
            "linecolor": "white",
            "ticks": ""
           },
           "bgcolor": "#E5ECF6",
           "radialaxis": {
            "gridcolor": "white",
            "linecolor": "white",
            "ticks": ""
           }
          },
          "scene": {
           "xaxis": {
            "backgroundcolor": "#E5ECF6",
            "gridcolor": "white",
            "gridwidth": 2,
            "linecolor": "white",
            "showbackground": true,
            "ticks": "",
            "zerolinecolor": "white"
           },
           "yaxis": {
            "backgroundcolor": "#E5ECF6",
            "gridcolor": "white",
            "gridwidth": 2,
            "linecolor": "white",
            "showbackground": true,
            "ticks": "",
            "zerolinecolor": "white"
           },
           "zaxis": {
            "backgroundcolor": "#E5ECF6",
            "gridcolor": "white",
            "gridwidth": 2,
            "linecolor": "white",
            "showbackground": true,
            "ticks": "",
            "zerolinecolor": "white"
           }
          },
          "shapedefaults": {
           "line": {
            "color": "#2a3f5f"
           }
          },
          "ternary": {
           "aaxis": {
            "gridcolor": "white",
            "linecolor": "white",
            "ticks": ""
           },
           "baxis": {
            "gridcolor": "white",
            "linecolor": "white",
            "ticks": ""
           },
           "bgcolor": "#E5ECF6",
           "caxis": {
            "gridcolor": "white",
            "linecolor": "white",
            "ticks": ""
           }
          },
          "title": {
           "x": 0.05
          },
          "xaxis": {
           "automargin": true,
           "gridcolor": "white",
           "linecolor": "white",
           "ticks": "",
           "title": {
            "standoff": 15
           },
           "zerolinecolor": "white",
           "zerolinewidth": 2
          },
          "yaxis": {
           "automargin": true,
           "gridcolor": "white",
           "linecolor": "white",
           "ticks": "",
           "title": {
            "standoff": 15
           },
           "zerolinecolor": "white",
           "zerolinewidth": 2
          }
         }
        },
        "title": {
         "text": "Assets, Liabilities, and Stockholders Equity Over Time"
        },
        "xaxis": {
         "tickfont": {
          "size": 14
         }
        },
        "yaxis": {
         "tickfont": {
          "size": 14
         },
         "title": {
          "font": {
           "size": 16
          },
          "text": "USD Millions"
         }
        }
       }
      }
     },
     "metadata": {},
     "output_type": "display_data"
    }
   ],
   "source": [
    "import plotly.graph_objs as go\n",
    "import pandas as pd\n",
    "\n",
    "fig = go.Figure()\n",
    "\n",
    "# Assets\n",
    "fig.add_trace(go.Bar(\n",
    "    x=df_copy['DATE'],\n",
    "    y=df_copy['Assets'],\n",
    "    name='Assets',\n",
    "    marker_color='blue'\n",
    "))\n",
    "\n",
    "# Liabilities\n",
    "fig.add_trace(go.Bar(\n",
    "    x=df_copy['DATE'],\n",
    "    y=df_copy['Liabilities'],\n",
    "    name='Liabilities',\n",
    "    marker_color='red'\n",
    "))\n",
    "\n",
    "# Stockholders Equity\n",
    "fig.add_trace(go.Bar(\n",
    "    x=df_copy['DATE'],\n",
    "    y=df_copy['StockholdersEquity'],\n",
    "    name='Stockholders Equity',\n",
    "    marker_color='green'\n",
    "))\n",
    "\n",
    "fig.update_layout(\n",
    "    title='Assets, Liabilities, and Stockholders Equity Over Time',\n",
    "    xaxis_tickfont_size=14,\n",
    "    yaxis=dict(\n",
    "        title='USD Millions',\n",
    "        titlefont_size=16,\n",
    "        tickfont_size=14,\n",
    "    ),\n",
    "    legend=dict(\n",
    "        x=0,\n",
    "        y=1.0,\n",
    "        bgcolor='rgba(255, 255, 255, 0)',\n",
    "        bordercolor='rgba(255, 255, 255, 0)'\n",
    "    ),\n",
    "    barmode='stack',\n",
    "    bargap=0.15, # gap between bars of adjacent location coordinates\n",
    "    bargroupgap=0.1 # gap between bars of the same location coordinate\n",
    ")\n",
    "\n",
    "fig.show()\n"
   ]
  }
 ],
 "metadata": {
  "kernelspec": {
   "display_name": "Python 3 (ipykernel)",
   "language": "python",
   "name": "python3"
  },
  "language_info": {
   "codemirror_mode": {
    "name": "ipython",
    "version": 3
   },
   "file_extension": ".py",
   "mimetype": "text/x-python",
   "name": "python",
   "nbconvert_exporter": "python",
   "pygments_lexer": "ipython3",
   "version": "3.11.6"
  }
 },
 "nbformat": 4,
 "nbformat_minor": 5
}
