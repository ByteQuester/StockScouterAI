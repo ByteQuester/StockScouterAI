{
 "cells": [
  {
   "cell_type": "markdown",
   "id": "645f7f19-4820-48f6-9c48-c6680ef21474",
   "metadata": {
    "jp-MarkdownHeadingCollapsed": true
   },
   "source": [
    "# 05_Investment_Efficiency.ipynb"
   ]
  },
  {
   "cell_type": "markdown",
   "id": "1b528acd-813f-438e-af94-6d37e98a7e4e",
   "metadata": {},
   "source": [
    "## Title: \"Investment Efficiency\""
   ]
  },
  {
   "cell_type": "markdown",
   "id": "4c68e4b6-02e6-4f7f-bc98-b57c7595c604",
   "metadata": {},
   "source": [
    "## Contents:\n",
    "\n",
    "- Investment Efficiency metrics from SEC data.\n",
    "- Validation against ---.sql. ##TODO\n",
    "- Return on Assets/Investment (ROA/I) analysis.\n",
    "- Comparative visualizations and insights."
   ]
  },
  {
   "cell_type": "markdown",
   "id": "39b005c6-3ee2-41ad-91a1-9d241660f870",
   "metadata": {},
   "source": [
    "---"
   ]
  },
  {
   "cell_type": "markdown",
   "id": "742170c6-3012-4827-aa74-310b498d23aa",
   "metadata": {},
   "source": [
    "# Set Up the Environment"
   ]
  },
  {
   "cell_type": "markdown",
   "id": "5e6b38cc-c136-412f-b12e-67141d0676b9",
   "metadata": {},
   "source": [
    "## Import Libraries"
   ]
  },
  {
   "cell_type": "code",
   "execution_count": 1,
   "id": "67ca6750-7217-4be1-978a-1a433b759c54",
   "metadata": {},
   "outputs": [],
   "source": [
    "import pandas as pd\n",
    "import matplotlib.pyplot as plt"
   ]
  },
  {
   "cell_type": "markdown",
   "id": "cf26d2db-597b-4c03-8acf-94fe6fd2c7a3",
   "metadata": {},
   "source": [
    "## Functions"
   ]
  },
  {
   "cell_type": "code",
   "execution_count": 2,
   "id": "0edf7aaf-b9e7-4acd-8e09-70def5e11664",
   "metadata": {},
   "outputs": [],
   "source": [
    "from prepare_and_sort_data_annually import prepare_and_sort_financial_data"
   ]
  },
  {
   "cell_type": "markdown",
   "id": "7e6ffad5-7e1a-4d4b-ad7e-e63abc599b8a",
   "metadata": {},
   "source": [
    "# Load Data"
   ]
  },
  {
   "cell_type": "markdown",
   "id": "bbf50fa0-70c4-4f31-8933-7dca009c7810",
   "metadata": {},
   "source": [
    "## Load Data from CSV File"
   ]
  },
  {
   "cell_type": "code",
   "execution_count": 3,
   "id": "17da640e-aa9a-4081-98e6-9166746159dd",
   "metadata": {},
   "outputs": [],
   "source": [
    "raw_data = pd.read_csv('combined_df.csv')"
   ]
  },
  {
   "cell_type": "code",
   "execution_count": 5,
   "id": "2da40aa2-7091-4fd4-9d72-28feb1eb4206",
   "metadata": {},
   "outputs": [
    {
     "data": {
      "text/html": [
       "<div>\n",
       "<style scoped>\n",
       "    .dataframe tbody tr th:only-of-type {\n",
       "        vertical-align: middle;\n",
       "    }\n",
       "\n",
       "    .dataframe tbody tr th {\n",
       "        vertical-align: top;\n",
       "    }\n",
       "\n",
       "    .dataframe thead th {\n",
       "        text-align: right;\n",
       "    }\n",
       "</style>\n",
       "<table border=\"1\" class=\"dataframe\">\n",
       "  <thead>\n",
       "    <tr style=\"text-align: right;\">\n",
       "      <th></th>\n",
       "      <th>EntityName</th>\n",
       "      <th>CIK</th>\n",
       "      <th>Metric</th>\n",
       "      <th>start</th>\n",
       "      <th>end</th>\n",
       "      <th>val</th>\n",
       "      <th>accn</th>\n",
       "      <th>fy</th>\n",
       "      <th>fp</th>\n",
       "      <th>form</th>\n",
       "      <th>filed</th>\n",
       "      <th>frame</th>\n",
       "    </tr>\n",
       "  </thead>\n",
       "  <tbody>\n",
       "    <tr>\n",
       "      <th>0</th>\n",
       "      <td>THE BOEING COMPANY</td>\n",
       "      <td>12927</td>\n",
       "      <td>CapitalExpendituresIncurredButNotYetPaid</td>\n",
       "      <td>2012-01-01</td>\n",
       "      <td>2012-12-31</td>\n",
       "      <td>234000000</td>\n",
       "      <td>0000012927-14-000004</td>\n",
       "      <td>2013</td>\n",
       "      <td>FY</td>\n",
       "      <td>10-K</td>\n",
       "      <td>2014-02-14</td>\n",
       "      <td>CY2012</td>\n",
       "    </tr>\n",
       "    <tr>\n",
       "      <th>1</th>\n",
       "      <td>THE BOEING COMPANY</td>\n",
       "      <td>12927</td>\n",
       "      <td>CapitalExpendituresIncurredButNotYetPaid</td>\n",
       "      <td>2013-01-01</td>\n",
       "      <td>2013-12-31</td>\n",
       "      <td>213000000</td>\n",
       "      <td>0000012927-14-000004</td>\n",
       "      <td>2013</td>\n",
       "      <td>FY</td>\n",
       "      <td>10-K</td>\n",
       "      <td>2014-02-14</td>\n",
       "      <td>NaN</td>\n",
       "    </tr>\n",
       "    <tr>\n",
       "      <th>2</th>\n",
       "      <td>THE BOEING COMPANY</td>\n",
       "      <td>12927</td>\n",
       "      <td>CapitalExpendituresIncurredButNotYetPaid</td>\n",
       "      <td>2013-01-01</td>\n",
       "      <td>2013-12-31</td>\n",
       "      <td>213000000</td>\n",
       "      <td>0000012927-15-000011</td>\n",
       "      <td>2014</td>\n",
       "      <td>FY</td>\n",
       "      <td>10-K</td>\n",
       "      <td>2015-02-12</td>\n",
       "      <td>CY2013</td>\n",
       "    </tr>\n",
       "    <tr>\n",
       "      <th>3</th>\n",
       "      <td>THE BOEING COMPANY</td>\n",
       "      <td>12927</td>\n",
       "      <td>CapitalExpendituresIncurredButNotYetPaid</td>\n",
       "      <td>2014-01-01</td>\n",
       "      <td>2014-12-31</td>\n",
       "      <td>299000000</td>\n",
       "      <td>0000012927-15-000011</td>\n",
       "      <td>2014</td>\n",
       "      <td>FY</td>\n",
       "      <td>10-K</td>\n",
       "      <td>2015-02-12</td>\n",
       "      <td>NaN</td>\n",
       "    </tr>\n",
       "    <tr>\n",
       "      <th>4</th>\n",
       "      <td>THE BOEING COMPANY</td>\n",
       "      <td>12927</td>\n",
       "      <td>CapitalExpendituresIncurredButNotYetPaid</td>\n",
       "      <td>2014-01-01</td>\n",
       "      <td>2014-12-31</td>\n",
       "      <td>299000000</td>\n",
       "      <td>0000012927-16-000099</td>\n",
       "      <td>2015</td>\n",
       "      <td>FY</td>\n",
       "      <td>10-K</td>\n",
       "      <td>2016-02-10</td>\n",
       "      <td>CY2014</td>\n",
       "    </tr>\n",
       "  </tbody>\n",
       "</table>\n",
       "</div>"
      ],
      "text/plain": [
       "           EntityName    CIK                                    Metric  \\\n",
       "0  THE BOEING COMPANY  12927  CapitalExpendituresIncurredButNotYetPaid   \n",
       "1  THE BOEING COMPANY  12927  CapitalExpendituresIncurredButNotYetPaid   \n",
       "2  THE BOEING COMPANY  12927  CapitalExpendituresIncurredButNotYetPaid   \n",
       "3  THE BOEING COMPANY  12927  CapitalExpendituresIncurredButNotYetPaid   \n",
       "4  THE BOEING COMPANY  12927  CapitalExpendituresIncurredButNotYetPaid   \n",
       "\n",
       "        start         end        val                  accn    fy  fp  form  \\\n",
       "0  2012-01-01  2012-12-31  234000000  0000012927-14-000004  2013  FY  10-K   \n",
       "1  2013-01-01  2013-12-31  213000000  0000012927-14-000004  2013  FY  10-K   \n",
       "2  2013-01-01  2013-12-31  213000000  0000012927-15-000011  2014  FY  10-K   \n",
       "3  2014-01-01  2014-12-31  299000000  0000012927-15-000011  2014  FY  10-K   \n",
       "4  2014-01-01  2014-12-31  299000000  0000012927-16-000099  2015  FY  10-K   \n",
       "\n",
       "        filed   frame  \n",
       "0  2014-02-14  CY2012  \n",
       "1  2014-02-14     NaN  \n",
       "2  2015-02-12  CY2013  \n",
       "3  2015-02-12     NaN  \n",
       "4  2016-02-10  CY2014  "
      ]
     },
     "execution_count": 5,
     "metadata": {},
     "output_type": "execute_result"
    }
   ],
   "source": [
    "# Inspect the first few rows of the dataset\n",
    "raw_data.head(5)"
   ]
  },
  {
   "cell_type": "code",
   "execution_count": 6,
   "id": "77c4cd58-2314-4159-9285-e7e5cd74024e",
   "metadata": {},
   "outputs": [],
   "source": [
    "# Convert 'end' column to datetime for proper sorting\n",
    "raw_data['end'] = pd.to_datetime(raw_data['end'], format='%Y-%m-%d')\n"
   ]
  },
  {
   "cell_type": "code",
   "execution_count": 7,
   "id": "c86d3812-3223-469f-8e48-7e3aab83abfb",
   "metadata": {},
   "outputs": [
    {
     "name": "stdout",
     "output_type": "stream",
     "text": [
      "<class 'pandas.core.frame.DataFrame'>\n",
      "RangeIndex: 414 entries, 0 to 413\n",
      "Data columns (total 12 columns):\n",
      " #   Column      Non-Null Count  Dtype         \n",
      "---  ------      --------------  -----         \n",
      " 0   EntityName  414 non-null    object        \n",
      " 1   CIK         414 non-null    int64         \n",
      " 2   Metric      414 non-null    object        \n",
      " 3   start       298 non-null    object        \n",
      " 4   end         414 non-null    datetime64[ns]\n",
      " 5   val         414 non-null    int64         \n",
      " 6   accn        414 non-null    object        \n",
      " 7   fy          414 non-null    int64         \n",
      " 8   fp          414 non-null    object        \n",
      " 9   form        414 non-null    object        \n",
      " 10  filed       414 non-null    object        \n",
      " 11  frame       145 non-null    object        \n",
      "dtypes: datetime64[ns](1), int64(3), object(8)\n",
      "memory usage: 38.9+ KB\n"
     ]
    }
   ],
   "source": [
    "# Check the data types and look for any missing values\n",
    "raw_data.info()"
   ]
  },
  {
   "cell_type": "markdown",
   "id": "5d4da628-9f6a-4f82-8007-f6dfbc576111",
   "metadata": {},
   "source": [
    "# Individual Metrics Analysis"
   ]
  },
  {
   "cell_type": "markdown",
   "id": "bb139a91-ca7e-47e7-9d3a-1e4e1ecb0b42",
   "metadata": {},
   "source": [
    "## Analysis of CapitalExpendituresIncurredButNotYetPaid"
   ]
  },
  {
   "cell_type": "code",
   "execution_count": 11,
   "id": "2e6284c1-20dc-413a-b050-87e1fdcb753a",
   "metadata": {},
   "outputs": [],
   "source": [
    "# Filter out the Assets\n",
    "unpaid_capita = raw_data[raw_data['Metric'] == 'CapitalExpendituresIncurredButNotYetPaid']"
   ]
  },
  {
   "cell_type": "code",
   "execution_count": 12,
   "id": "4d3490e9-1f80-4170-9ace-21696aca6399",
   "metadata": {},
   "outputs": [],
   "source": [
    "unpaid_capita_data = prepare_and_sort_financial_data(raw_data, 'CapitalExpendituresIncurredButNotYetPaid')"
   ]
  },
  {
   "cell_type": "code",
   "execution_count": 13,
   "id": "238c75fa-324d-4f7e-a3d2-86eaf2d4eb0b",
   "metadata": {},
   "outputs": [
    {
     "data": {
      "text/html": [
       "<div>\n",
       "<style scoped>\n",
       "    .dataframe tbody tr th:only-of-type {\n",
       "        vertical-align: middle;\n",
       "    }\n",
       "\n",
       "    .dataframe tbody tr th {\n",
       "        vertical-align: top;\n",
       "    }\n",
       "\n",
       "    .dataframe thead th {\n",
       "        text-align: right;\n",
       "    }\n",
       "</style>\n",
       "<table border=\"1\" class=\"dataframe\">\n",
       "  <thead>\n",
       "    <tr style=\"text-align: right;\">\n",
       "      <th></th>\n",
       "      <th>EntityName</th>\n",
       "      <th>CIK</th>\n",
       "      <th>Metric</th>\n",
       "      <th>start</th>\n",
       "      <th>end</th>\n",
       "      <th>val</th>\n",
       "      <th>year</th>\n",
       "      <th>quarter</th>\n",
       "    </tr>\n",
       "  </thead>\n",
       "  <tbody>\n",
       "    <tr>\n",
       "      <th>0</th>\n",
       "      <td>THE BOEING COMPANY</td>\n",
       "      <td>12927</td>\n",
       "      <td>CapitalExpendituresIncurredButNotYetPaid</td>\n",
       "      <td>2012-01-01</td>\n",
       "      <td>2012-12-31</td>\n",
       "      <td>234000000</td>\n",
       "      <td>2012</td>\n",
       "      <td>5</td>\n",
       "    </tr>\n",
       "    <tr>\n",
       "      <th>2</th>\n",
       "      <td>THE BOEING COMPANY</td>\n",
       "      <td>12927</td>\n",
       "      <td>CapitalExpendituresIncurredButNotYetPaid</td>\n",
       "      <td>2013-01-01</td>\n",
       "      <td>2013-12-31</td>\n",
       "      <td>213000000</td>\n",
       "      <td>2013</td>\n",
       "      <td>5</td>\n",
       "    </tr>\n",
       "    <tr>\n",
       "      <th>4</th>\n",
       "      <td>THE BOEING COMPANY</td>\n",
       "      <td>12927</td>\n",
       "      <td>CapitalExpendituresIncurredButNotYetPaid</td>\n",
       "      <td>2014-01-01</td>\n",
       "      <td>2014-12-31</td>\n",
       "      <td>299000000</td>\n",
       "      <td>2014</td>\n",
       "      <td>5</td>\n",
       "    </tr>\n",
       "    <tr>\n",
       "      <th>6</th>\n",
       "      <td>THE BOEING COMPANY</td>\n",
       "      <td>12927</td>\n",
       "      <td>CapitalExpendituresIncurredButNotYetPaid</td>\n",
       "      <td>2015-01-01</td>\n",
       "      <td>2015-12-31</td>\n",
       "      <td>502000000</td>\n",
       "      <td>2015</td>\n",
       "      <td>5</td>\n",
       "    </tr>\n",
       "    <tr>\n",
       "      <th>8</th>\n",
       "      <td>THE BOEING COMPANY</td>\n",
       "      <td>12927</td>\n",
       "      <td>CapitalExpendituresIncurredButNotYetPaid</td>\n",
       "      <td>2016-01-01</td>\n",
       "      <td>2016-12-31</td>\n",
       "      <td>292000000</td>\n",
       "      <td>2016</td>\n",
       "      <td>5</td>\n",
       "    </tr>\n",
       "  </tbody>\n",
       "</table>\n",
       "</div>"
      ],
      "text/plain": [
       "           EntityName    CIK                                    Metric  \\\n",
       "0  THE BOEING COMPANY  12927  CapitalExpendituresIncurredButNotYetPaid   \n",
       "2  THE BOEING COMPANY  12927  CapitalExpendituresIncurredButNotYetPaid   \n",
       "4  THE BOEING COMPANY  12927  CapitalExpendituresIncurredButNotYetPaid   \n",
       "6  THE BOEING COMPANY  12927  CapitalExpendituresIncurredButNotYetPaid   \n",
       "8  THE BOEING COMPANY  12927  CapitalExpendituresIncurredButNotYetPaid   \n",
       "\n",
       "        start        end        val  year  quarter  \n",
       "0  2012-01-01 2012-12-31  234000000  2012        5  \n",
       "2  2013-01-01 2013-12-31  213000000  2013        5  \n",
       "4  2014-01-01 2014-12-31  299000000  2014        5  \n",
       "6  2015-01-01 2015-12-31  502000000  2015        5  \n",
       "8  2016-01-01 2016-12-31  292000000  2016        5  "
      ]
     },
     "execution_count": 13,
     "metadata": {},
     "output_type": "execute_result"
    }
   ],
   "source": [
    "unpaid_capita_data.head(5)"
   ]
  },
  {
   "cell_type": "code",
   "execution_count": 14,
   "id": "57493903-4d26-452d-9a65-601d6a9f9b18",
   "metadata": {},
   "outputs": [
    {
     "name": "stdout",
     "output_type": "stream",
     "text": [
      "           CIK                            end           val  quarter\n",
      "count     11.0                             11  1.100000e+01     11.0\n",
      "mean   12927.0  2017-12-30 21:49:05.454545408  2.911818e+08      5.0\n",
      "min    12927.0            2012-12-31 00:00:00  1.820000e+08      5.0\n",
      "25%    12927.0            2015-07-01 12:00:00  2.235000e+08      5.0\n",
      "50%    12927.0            2017-12-31 00:00:00  2.920000e+08      5.0\n",
      "75%    12927.0            2020-07-01 00:00:00  3.185000e+08      5.0\n",
      "max    12927.0            2022-12-31 00:00:00  5.020000e+08      5.0\n",
      "std        0.0                            NaN  9.449848e+07      0.0\n"
     ]
    }
   ],
   "source": [
    "print(unpaid_capita_data.describe())"
   ]
  },
  {
   "cell_type": "code",
   "execution_count": 15,
   "id": "2761052e-d62c-4a2e-96f1-e30db39c0979",
   "metadata": {},
   "outputs": [
    {
     "data": {
      "image/png": "[encoded data removed]",
      "text/plain": [
       "<Figure size 640x480 with 1 Axes>"
      ]
     },
     "metadata": {},
     "output_type": "display_data"
    }
   ],
   "source": [
    "unpaid_capita_data.plot(x='end', y='val', title='Capital Expenditures Incurred But Not Yet Paid Over Time')\n",
    "plt.show()"
   ]
  },
  {
   "cell_type": "markdown",
   "id": "4d1fe73f",
   "metadata": {},
   "source": [
    "## Analysis of Net Income/Loss"
   ]
  },
  {
   "cell_type": "code",
   "execution_count": 16,
   "id": "19e34531",
   "metadata": {},
   "outputs": [],
   "source": [
    "# Filter out the operating income/loss data\n",
    "net_income_loss = raw_data[raw_data['Metric'] == 'NetIncomeLoss']"
   ]
  },
  {
   "cell_type": "code",
   "execution_count": 17,
   "id": "1363329f",
   "metadata": {},
   "outputs": [],
   "source": [
    "net_income_loss_data = prepare_and_sort_financial_data(raw_data, 'NetIncomeLoss')"
   ]
  },
  {
   "cell_type": "code",
   "execution_count": 18,
   "id": "302f2e48",
   "metadata": {},
   "outputs": [
    {
     "data": {
      "text/html": [
       "<div>\n",
       "<style scoped>\n",
       "    .dataframe tbody tr th:only-of-type {\n",
       "        vertical-align: middle;\n",
       "    }\n",
       "\n",
       "    .dataframe tbody tr th {\n",
       "        vertical-align: top;\n",
       "    }\n",
       "\n",
       "    .dataframe thead th {\n",
       "        text-align: right;\n",
       "    }\n",
       "</style>\n",
       "<table border=\"1\" class=\"dataframe\">\n",
       "  <thead>\n",
       "    <tr style=\"text-align: right;\">\n",
       "      <th></th>\n",
       "      <th>EntityName</th>\n",
       "      <th>CIK</th>\n",
       "      <th>Metric</th>\n",
       "      <th>start</th>\n",
       "      <th>end</th>\n",
       "      <th>val</th>\n",
       "      <th>year</th>\n",
       "      <th>quarter</th>\n",
       "    </tr>\n",
       "  </thead>\n",
       "  <tbody>\n",
       "    <tr>\n",
       "      <th>20</th>\n",
       "      <td>THE BOEING COMPANY</td>\n",
       "      <td>12927</td>\n",
       "      <td>NetIncomeLoss</td>\n",
       "      <td>2007-01-01</td>\n",
       "      <td>2007-12-31</td>\n",
       "      <td>4074000000</td>\n",
       "      <td>2007</td>\n",
       "      <td>5</td>\n",
       "    </tr>\n",
       "    <tr>\n",
       "      <th>26</th>\n",
       "      <td>THE BOEING COMPANY</td>\n",
       "      <td>12927</td>\n",
       "      <td>NetIncomeLoss</td>\n",
       "      <td>2008-01-01</td>\n",
       "      <td>2008-12-31</td>\n",
       "      <td>2672000000</td>\n",
       "      <td>2008</td>\n",
       "      <td>5</td>\n",
       "    </tr>\n",
       "    <tr>\n",
       "      <th>28</th>\n",
       "      <td>THE BOEING COMPANY</td>\n",
       "      <td>12927</td>\n",
       "      <td>NetIncomeLoss</td>\n",
       "      <td>2009-01-01</td>\n",
       "      <td>2009-03-31</td>\n",
       "      <td>610000000</td>\n",
       "      <td>2009</td>\n",
       "      <td>1</td>\n",
       "    </tr>\n",
       "    <tr>\n",
       "      <th>33</th>\n",
       "      <td>THE BOEING COMPANY</td>\n",
       "      <td>12927</td>\n",
       "      <td>NetIncomeLoss</td>\n",
       "      <td>2009-04-01</td>\n",
       "      <td>2009-06-30</td>\n",
       "      <td>998000000</td>\n",
       "      <td>2009</td>\n",
       "      <td>2</td>\n",
       "    </tr>\n",
       "    <tr>\n",
       "      <th>38</th>\n",
       "      <td>THE BOEING COMPANY</td>\n",
       "      <td>12927</td>\n",
       "      <td>NetIncomeLoss</td>\n",
       "      <td>2009-07-01</td>\n",
       "      <td>2009-09-30</td>\n",
       "      <td>-1564000000</td>\n",
       "      <td>2009</td>\n",
       "      <td>3</td>\n",
       "    </tr>\n",
       "  </tbody>\n",
       "</table>\n",
       "</div>"
      ],
      "text/plain": [
       "            EntityName    CIK         Metric       start        end  \\\n",
       "20  THE BOEING COMPANY  12927  NetIncomeLoss  2007-01-01 2007-12-31   \n",
       "26  THE BOEING COMPANY  12927  NetIncomeLoss  2008-01-01 2008-12-31   \n",
       "28  THE BOEING COMPANY  12927  NetIncomeLoss  2009-01-01 2009-03-31   \n",
       "33  THE BOEING COMPANY  12927  NetIncomeLoss  2009-04-01 2009-06-30   \n",
       "38  THE BOEING COMPANY  12927  NetIncomeLoss  2009-07-01 2009-09-30   \n",
       "\n",
       "           val  year  quarter  \n",
       "20  4074000000  2007        5  \n",
       "26  2672000000  2008        5  \n",
       "28   610000000  2009        1  \n",
       "33   998000000  2009        2  \n",
       "38 -1564000000  2009        3  "
      ]
     },
     "execution_count": 18,
     "metadata": {},
     "output_type": "execute_result"
    }
   ],
   "source": [
    "net_income_loss_data.head()"
   ]
  },
  {
   "cell_type": "markdown",
   "id": "eb66760a",
   "metadata": {},
   "source": [
    "## Analysis of Assets"
   ]
  },
  {
   "cell_type": "code",
   "execution_count": 19,
   "id": "d81cb1c2",
   "metadata": {},
   "outputs": [],
   "source": [
    "# Filter out the Assets\n",
    "assets = raw_data[raw_data['Metric'] == 'Assets']"
   ]
  },
  {
   "cell_type": "code",
   "execution_count": 20,
   "id": "11c4ffad",
   "metadata": {},
   "outputs": [],
   "source": [
    "assets_data = prepare_and_sort_financial_data(raw_data, 'Assets')"
   ]
  },
  {
   "cell_type": "code",
   "execution_count": 22,
   "id": "fef9a0fb",
   "metadata": {},
   "outputs": [
    {
     "data": {
      "text/html": [
       "<div>\n",
       "<style scoped>\n",
       "    .dataframe tbody tr th:only-of-type {\n",
       "        vertical-align: middle;\n",
       "    }\n",
       "\n",
       "    .dataframe tbody tr th {\n",
       "        vertical-align: top;\n",
       "    }\n",
       "\n",
       "    .dataframe thead th {\n",
       "        text-align: right;\n",
       "    }\n",
       "</style>\n",
       "<table border=\"1\" class=\"dataframe\">\n",
       "  <thead>\n",
       "    <tr style=\"text-align: right;\">\n",
       "      <th></th>\n",
       "      <th>EntityName</th>\n",
       "      <th>CIK</th>\n",
       "      <th>Metric</th>\n",
       "      <th>start</th>\n",
       "      <th>end</th>\n",
       "      <th>val</th>\n",
       "      <th>year</th>\n",
       "      <th>quarter</th>\n",
       "    </tr>\n",
       "  </thead>\n",
       "  <tbody>\n",
       "    <tr>\n",
       "      <th>300</th>\n",
       "      <td>THE BOEING COMPANY</td>\n",
       "      <td>12927</td>\n",
       "      <td>Assets</td>\n",
       "      <td>NaN</td>\n",
       "      <td>2008-12-31</td>\n",
       "      <td>53779000000</td>\n",
       "      <td>2008</td>\n",
       "      <td>5</td>\n",
       "    </tr>\n",
       "    <tr>\n",
       "      <th>307</th>\n",
       "      <td>THE BOEING COMPANY</td>\n",
       "      <td>12927</td>\n",
       "      <td>Assets</td>\n",
       "      <td>NaN</td>\n",
       "      <td>2009-12-31</td>\n",
       "      <td>62053000000</td>\n",
       "      <td>2009</td>\n",
       "      <td>5</td>\n",
       "    </tr>\n",
       "    <tr>\n",
       "      <th>315</th>\n",
       "      <td>THE BOEING COMPANY</td>\n",
       "      <td>12927</td>\n",
       "      <td>Assets</td>\n",
       "      <td>NaN</td>\n",
       "      <td>2010-12-31</td>\n",
       "      <td>68565000000</td>\n",
       "      <td>2010</td>\n",
       "      <td>5</td>\n",
       "    </tr>\n",
       "    <tr>\n",
       "      <th>323</th>\n",
       "      <td>THE BOEING COMPANY</td>\n",
       "      <td>12927</td>\n",
       "      <td>Assets</td>\n",
       "      <td>NaN</td>\n",
       "      <td>2011-12-31</td>\n",
       "      <td>79986000000</td>\n",
       "      <td>2011</td>\n",
       "      <td>5</td>\n",
       "    </tr>\n",
       "    <tr>\n",
       "      <th>331</th>\n",
       "      <td>THE BOEING COMPANY</td>\n",
       "      <td>12927</td>\n",
       "      <td>Assets</td>\n",
       "      <td>NaN</td>\n",
       "      <td>2012-12-31</td>\n",
       "      <td>88896000000</td>\n",
       "      <td>2012</td>\n",
       "      <td>5</td>\n",
       "    </tr>\n",
       "  </tbody>\n",
       "</table>\n",
       "</div>"
      ],
      "text/plain": [
       "             EntityName    CIK  Metric start        end          val  year  \\\n",
       "300  THE BOEING COMPANY  12927  Assets   NaN 2008-12-31  53779000000  2008   \n",
       "307  THE BOEING COMPANY  12927  Assets   NaN 2009-12-31  62053000000  2009   \n",
       "315  THE BOEING COMPANY  12927  Assets   NaN 2010-12-31  68565000000  2010   \n",
       "323  THE BOEING COMPANY  12927  Assets   NaN 2011-12-31  79986000000  2011   \n",
       "331  THE BOEING COMPANY  12927  Assets   NaN 2012-12-31  88896000000  2012   \n",
       "\n",
       "     quarter  \n",
       "300        5  \n",
       "307        5  \n",
       "315        5  \n",
       "323        5  \n",
       "331        5  "
      ]
     },
     "execution_count": 22,
     "metadata": {},
     "output_type": "execute_result"
    }
   ],
   "source": [
    "assets_data.head(5)"
   ]
  },
  {
   "cell_type": "code",
   "execution_count": null,
   "id": "2a071b7d",
   "metadata": {},
   "outputs": [],
   "source": [
    "print(assets_data.describe())"
   ]
  },
  {
   "cell_type": "code",
   "execution_count": null,
   "id": "66a85440",
   "metadata": {},
   "outputs": [],
   "source": [
    "assets_data.plot(x='end', y='val', title='Assets Over Time')\n",
    "plt.show()"
   ]
  },
  {
   "cell_type": "markdown",
   "id": "29d731d1-ccd0-4b1a-9103-4a1088590d49",
   "metadata": {},
   "source": [
    "# Merge the Data"
   ]
  },
  {
   "cell_type": "code",
   "execution_count": 23,
   "id": "b4c828d8",
   "metadata": {},
   "outputs": [],
   "source": [
    "df_merged = pd.merge(assets_data, net_income_loss_data, \n",
    "                     on=['EntityName', 'CIK', 'end', 'year', 'quarter'], \n",
    "                     how='outer', suffixes=('_assets', '_net_income_loss'))"
   ]
  },
  {
   "cell_type": "code",
   "execution_count": 25,
   "id": "4a5d22a6-6b11-4756-ade1-bd80735d4daf",
   "metadata": {},
   "outputs": [],
   "source": [
    "df_merged = pd.merge(df_merged, unpaid_capita_data, \n",
    "                     on=['EntityName', 'CIK', 'end', 'year', 'quarter'], \n",
    "                     how='outer')\n",
    "                     "
   ]
  },
  {
   "cell_type": "code",
   "execution_count": 33,
   "id": "6e06dc61-008d-4836-bfae-125f8cd65291",
   "metadata": {},
   "outputs": [],
   "source": [
    "df_merged.rename(columns={'val_assets': 'Assets', \n",
    "                          'val_net_income_loss': 'NetIncomeLoss',\n",
    "                          'val': 'UnpaidCapita'}, inplace=True)"
   ]
  },
  {
   "cell_type": "code",
   "execution_count": null,
   "id": "7156cd5b-ec3a-4cef-a5de-7185c17f318f",
   "metadata": {},
   "outputs": [],
   "source": [
    "# Filtering out the annual data (rows where quarter is '5')\n",
    "#df_merged_quarterly = df_merged[df_merged['quarter']] != 5]"
   ]
  },
  {
   "cell_type": "code",
   "execution_count": 46,
   "id": "2430b743-71c8-46d4-8c65-8a9c99d56bb5",
   "metadata": {
    "scrolled": true
   },
   "outputs": [
    {
     "data": {
      "text/html": [
       "<div>\n",
       "<style scoped>\n",
       "    .dataframe tbody tr th:only-of-type {\n",
       "        vertical-align: middle;\n",
       "    }\n",
       "\n",
       "    .dataframe tbody tr th {\n",
       "        vertical-align: top;\n",
       "    }\n",
       "\n",
       "    .dataframe thead th {\n",
       "        text-align: right;\n",
       "    }\n",
       "</style>\n",
       "<table border=\"1\" class=\"dataframe\">\n",
       "  <thead>\n",
       "    <tr style=\"text-align: right;\">\n",
       "      <th></th>\n",
       "      <th>EntityName</th>\n",
       "      <th>CIK</th>\n",
       "      <th>Metric_assets</th>\n",
       "      <th>start_assets</th>\n",
       "      <th>end</th>\n",
       "      <th>Assets</th>\n",
       "      <th>year</th>\n",
       "      <th>quarter</th>\n",
       "      <th>Metric_net_income_loss</th>\n",
       "      <th>start_net_income_loss</th>\n",
       "      <th>NetIncomeLoss</th>\n",
       "      <th>Metric</th>\n",
       "      <th>start</th>\n",
       "      <th>UnpaidCapita</th>\n",
       "    </tr>\n",
       "  </thead>\n",
       "  <tbody>\n",
       "    <tr>\n",
       "      <th>0</th>\n",
       "      <td>THE BOEING COMPANY</td>\n",
       "      <td>12927</td>\n",
       "      <td>Assets</td>\n",
       "      <td>NaN</td>\n",
       "      <td>2008-12-31</td>\n",
       "      <td>5.377900e+10</td>\n",
       "      <td>2008</td>\n",
       "      <td>5</td>\n",
       "      <td>NetIncomeLoss</td>\n",
       "      <td>2008-01-01</td>\n",
       "      <td>2672000000</td>\n",
       "      <td>NaN</td>\n",
       "      <td>NaN</td>\n",
       "      <td>NaN</td>\n",
       "    </tr>\n",
       "    <tr>\n",
       "      <th>1</th>\n",
       "      <td>THE BOEING COMPANY</td>\n",
       "      <td>12927</td>\n",
       "      <td>Assets</td>\n",
       "      <td>NaN</td>\n",
       "      <td>2009-12-31</td>\n",
       "      <td>6.205300e+10</td>\n",
       "      <td>2009</td>\n",
       "      <td>5</td>\n",
       "      <td>NetIncomeLoss</td>\n",
       "      <td>2009-01-01</td>\n",
       "      <td>1312000000</td>\n",
       "      <td>NaN</td>\n",
       "      <td>NaN</td>\n",
       "      <td>NaN</td>\n",
       "    </tr>\n",
       "    <tr>\n",
       "      <th>2</th>\n",
       "      <td>THE BOEING COMPANY</td>\n",
       "      <td>12927</td>\n",
       "      <td>Assets</td>\n",
       "      <td>NaN</td>\n",
       "      <td>2010-12-31</td>\n",
       "      <td>6.856500e+10</td>\n",
       "      <td>2010</td>\n",
       "      <td>5</td>\n",
       "      <td>NetIncomeLoss</td>\n",
       "      <td>2010-01-01</td>\n",
       "      <td>3307000000</td>\n",
       "      <td>NaN</td>\n",
       "      <td>NaN</td>\n",
       "      <td>NaN</td>\n",
       "    </tr>\n",
       "    <tr>\n",
       "      <th>3</th>\n",
       "      <td>THE BOEING COMPANY</td>\n",
       "      <td>12927</td>\n",
       "      <td>Assets</td>\n",
       "      <td>NaN</td>\n",
       "      <td>2011-12-31</td>\n",
       "      <td>7.998600e+10</td>\n",
       "      <td>2011</td>\n",
       "      <td>5</td>\n",
       "      <td>NetIncomeLoss</td>\n",
       "      <td>2011-01-01</td>\n",
       "      <td>4018000000</td>\n",
       "      <td>NaN</td>\n",
       "      <td>NaN</td>\n",
       "      <td>NaN</td>\n",
       "    </tr>\n",
       "    <tr>\n",
       "      <th>4</th>\n",
       "      <td>THE BOEING COMPANY</td>\n",
       "      <td>12927</td>\n",
       "      <td>Assets</td>\n",
       "      <td>NaN</td>\n",
       "      <td>2012-12-31</td>\n",
       "      <td>8.889600e+10</td>\n",
       "      <td>2012</td>\n",
       "      <td>5</td>\n",
       "      <td>NetIncomeLoss</td>\n",
       "      <td>2012-01-01</td>\n",
       "      <td>3900000000</td>\n",
       "      <td>CapitalExpendituresIncurredButNotYetPaid</td>\n",
       "      <td>2012-01-01</td>\n",
       "      <td>234000000.0</td>\n",
       "    </tr>\n",
       "  </tbody>\n",
       "</table>\n",
       "</div>"
      ],
      "text/plain": [
       "           EntityName    CIK Metric_assets start_assets        end  \\\n",
       "0  THE BOEING COMPANY  12927        Assets          NaN 2008-12-31   \n",
       "1  THE BOEING COMPANY  12927        Assets          NaN 2009-12-31   \n",
       "2  THE BOEING COMPANY  12927        Assets          NaN 2010-12-31   \n",
       "3  THE BOEING COMPANY  12927        Assets          NaN 2011-12-31   \n",
       "4  THE BOEING COMPANY  12927        Assets          NaN 2012-12-31   \n",
       "\n",
       "         Assets  year  quarter Metric_net_income_loss start_net_income_loss  \\\n",
       "0  5.377900e+10  2008        5          NetIncomeLoss            2008-01-01   \n",
       "1  6.205300e+10  2009        5          NetIncomeLoss            2009-01-01   \n",
       "2  6.856500e+10  2010        5          NetIncomeLoss            2010-01-01   \n",
       "3  7.998600e+10  2011        5          NetIncomeLoss            2011-01-01   \n",
       "4  8.889600e+10  2012        5          NetIncomeLoss            2012-01-01   \n",
       "\n",
       "   NetIncomeLoss                                    Metric       start  \\\n",
       "0     2672000000                                       NaN         NaN   \n",
       "1     1312000000                                       NaN         NaN   \n",
       "2     3307000000                                       NaN         NaN   \n",
       "3     4018000000                                       NaN         NaN   \n",
       "4     3900000000  CapitalExpendituresIncurredButNotYetPaid  2012-01-01   \n",
       "\n",
       "   UnpaidCapita  \n",
       "0           NaN  \n",
       "1           NaN  \n",
       "2           NaN  \n",
       "3           NaN  \n",
       "4   234000000.0  "
      ]
     },
     "execution_count": 46,
     "metadata": {},
     "output_type": "execute_result"
    }
   ],
   "source": [
    "df_merged.head(5)"
   ]
  },
  {
   "cell_type": "markdown",
   "id": "aa7aa6d9-fd49-4662-970f-80e9994b9bed",
   "metadata": {},
   "source": [
    "# Calculation"
   ]
  },
  {
   "cell_type": "markdown",
   "id": "c7636ad8-cc2c-40b5-b153-e5f4d0c5bb92",
   "metadata": {},
   "source": [
    "**Investment Efficiency:**\n",
    "    \n",
    "    - `CapitalExpendituresIncurredButNotYetPaid`(UnpaidCapita)\n",
    "    - `NetIncomeLoss`\n",
    "    - `Assets`\n",
    "    - **Calculation:** Calculation: Return on Investment (ROI) = Net Income / (Assets - Capital Expenditures Incurred But Not Yet Paid)"
   ]
  },
  {
   "cell_type": "code",
   "execution_count": 35,
   "id": "1774c3f5-c93a-4448-ba83-24e97faf91e2",
   "metadata": {},
   "outputs": [],
   "source": [
    "# Start by creating a copy of the DataFrame to avoid SettingWithCopyWarning\n",
    "df_final = df_merged.copy()"
   ]
  },
  {
   "cell_type": "code",
   "execution_count": 36,
   "id": "d8bb8465-18e3-4881-9b08-f6d522caf582",
   "metadata": {},
   "outputs": [],
   "source": [
    "# Convert financial values from cents to millions for readability\n",
    "df_final['Assets'] /= 1000000\n",
    "df_final['NetIncomeLoss'] /= 1000000\n",
    "df_final['UnpaidCapita'] /= 1000000"
   ]
  },
  {
   "cell_type": "code",
   "execution_count": 37,
   "id": "213d50ee-2c89-41f9-bb7b-7d80083b2ac9",
   "metadata": {},
   "outputs": [],
   "source": [
    "# Ensure that division by zero is handled by replacing zero denominators with NaN\n",
    "# Calculate Return on Investment (ROI)\n",
    "df_final['ROI'] = df_final.apply(\n",
    "    lambda row: row['NetIncomeLoss'] / (row['Assets'] - row['UnpaidCapita']) \n",
    "    if (row['Assets'] - row['UnpaidCapita']) != 0 \n",
    "    else None, axis=1)\n",
    "\n",
    "# Calculate Return on Assets (ROA)\n",
    "df_final['ROA'] = df_final.apply(\n",
    "    lambda row: row['NetIncomeLoss'] / row['Assets'] \n",
    "    if row['Assets'] != 0 \n",
    "    else None, axis=1)"
   ]
  },
  {
   "cell_type": "code",
   "execution_count": 38,
   "id": "db15060c-e0e5-44f0-ab8a-37642f31a8a1",
   "metadata": {},
   "outputs": [],
   "source": [
    "# Selecting and renaming columns to match the desired format\n",
    "df_final = df_final[['EntityName', 'CIK', 'end', 'ROI', 'ROA', 'year', 'quarter']]\n"
   ]
  },
  {
   "cell_type": "code",
   "execution_count": 39,
   "id": "0a8fd9a7-b484-473a-a96c-7ed64ba10976",
   "metadata": {},
   "outputs": [],
   "source": [
    "df_copy = df_final.copy()\n",
    "df_copy.rename(columns={'EntityName': 'ENTITY', 'quarter': 'Quarter', 'year': 'Year', 'end': 'DATE'}, inplace=True)"
   ]
  },
  {
   "cell_type": "code",
   "execution_count": 42,
   "id": "87ae3d3a-2b6b-4b3a-b192-40b841d61479",
   "metadata": {},
   "outputs": [],
   "source": [
    "# Filtering on annual values only\n",
    "filtered_df = df_copy[df_copy['Quarter'] == 5]"
   ]
  },
  {
   "cell_type": "code",
   "execution_count": 44,
   "id": "51aedd0d",
   "metadata": {},
   "outputs": [
    {
     "data": {
      "text/html": [
       "<div>\n",
       "<style scoped>\n",
       "    .dataframe tbody tr th:only-of-type {\n",
       "        vertical-align: middle;\n",
       "    }\n",
       "\n",
       "    .dataframe tbody tr th {\n",
       "        vertical-align: top;\n",
       "    }\n",
       "\n",
       "    .dataframe thead th {\n",
       "        text-align: right;\n",
       "    }\n",
       "</style>\n",
       "<table border=\"1\" class=\"dataframe\">\n",
       "  <thead>\n",
       "    <tr style=\"text-align: right;\">\n",
       "      <th></th>\n",
       "      <th>ENTITY</th>\n",
       "      <th>CIK</th>\n",
       "      <th>DATE</th>\n",
       "      <th>ROI</th>\n",
       "      <th>ROA</th>\n",
       "      <th>Year</th>\n",
       "      <th>Quarter</th>\n",
       "    </tr>\n",
       "  </thead>\n",
       "  <tbody>\n",
       "    <tr>\n",
       "      <th>0</th>\n",
       "      <td>THE BOEING COMPANY</td>\n",
       "      <td>12927</td>\n",
       "      <td>2008-12-31</td>\n",
       "      <td>NaN</td>\n",
       "      <td>0.049685</td>\n",
       "      <td>2008</td>\n",
       "      <td>5</td>\n",
       "    </tr>\n",
       "    <tr>\n",
       "      <th>1</th>\n",
       "      <td>THE BOEING COMPANY</td>\n",
       "      <td>12927</td>\n",
       "      <td>2009-12-31</td>\n",
       "      <td>NaN</td>\n",
       "      <td>0.021143</td>\n",
       "      <td>2009</td>\n",
       "      <td>5</td>\n",
       "    </tr>\n",
       "    <tr>\n",
       "      <th>2</th>\n",
       "      <td>THE BOEING COMPANY</td>\n",
       "      <td>12927</td>\n",
       "      <td>2010-12-31</td>\n",
       "      <td>NaN</td>\n",
       "      <td>0.048232</td>\n",
       "      <td>2010</td>\n",
       "      <td>5</td>\n",
       "    </tr>\n",
       "    <tr>\n",
       "      <th>3</th>\n",
       "      <td>THE BOEING COMPANY</td>\n",
       "      <td>12927</td>\n",
       "      <td>2011-12-31</td>\n",
       "      <td>NaN</td>\n",
       "      <td>0.050234</td>\n",
       "      <td>2011</td>\n",
       "      <td>5</td>\n",
       "    </tr>\n",
       "    <tr>\n",
       "      <th>4</th>\n",
       "      <td>THE BOEING COMPANY</td>\n",
       "      <td>12927</td>\n",
       "      <td>2012-12-31</td>\n",
       "      <td>0.043987</td>\n",
       "      <td>0.043871</td>\n",
       "      <td>2012</td>\n",
       "      <td>5</td>\n",
       "    </tr>\n",
       "  </tbody>\n",
       "</table>\n",
       "</div>"
      ],
      "text/plain": [
       "               ENTITY    CIK       DATE       ROI       ROA  Year  Quarter\n",
       "0  THE BOEING COMPANY  12927 2008-12-31       NaN  0.049685  2008        5\n",
       "1  THE BOEING COMPANY  12927 2009-12-31       NaN  0.021143  2009        5\n",
       "2  THE BOEING COMPANY  12927 2010-12-31       NaN  0.048232  2010        5\n",
       "3  THE BOEING COMPANY  12927 2011-12-31       NaN  0.050234  2011        5\n",
       "4  THE BOEING COMPANY  12927 2012-12-31  0.043987  0.043871  2012        5"
      ]
     },
     "execution_count": 44,
     "metadata": {},
     "output_type": "execute_result"
    }
   ],
   "source": [
    "filtered_df.head()"
   ]
  },
  {
   "cell_type": "markdown",
   "id": "911cf03e-2324-4222-8b0e-54a80d8a1905",
   "metadata": {},
   "source": [
    "# Visualization"
   ]
  },
  {
   "cell_type": "code",
   "execution_count": 45,
   "id": "d061400c-400a-4974-a552-cff111ff7922",
   "metadata": {},
   "outputs": [
    {
     "data": {
      "application/vnd.plotly.v1+json": {
       "config": {
        "plotlyServerURL": "https://plot.ly"
       },
       "data": [
        {
         "hovertemplate": "Ratios=ROI<br>DATE=%{x}<br>Ratio Values=%{y}<extra></extra>",
         "legendgroup": "ROI",
         "line": {
          "color": "#636efa",
          "dash": "solid"
         },
         "marker": {
          "symbol": "circle"
         },
         "mode": "lines+markers",
         "name": "ROI",
         "orientation": "v",
         "showlegend": true,
         "type": "scatter",
         "x": [
          "2008-12-31T00:00:00",
          "2009-12-31T00:00:00",
          "2010-12-31T00:00:00",
          "2011-12-31T00:00:00",
          "2012-12-31T00:00:00",
          "2013-12-31T00:00:00",
          "2014-12-31T00:00:00",
          "2015-12-31T00:00:00",
          "2016-12-31T00:00:00",
          "2017-12-31T00:00:00",
          "2018-12-31T00:00:00",
          "2019-12-31T00:00:00",
          "2020-12-31T00:00:00",
          "2021-12-31T00:00:00",
          "2007-12-31T00:00:00",
          "2022-12-31T00:00:00"
         ],
         "xaxis": "x",
         "y": [
          null,
          null,
          null,
          null,
          0.04398727752588482,
          0.04959437533802055,
          0.05879812571527283,
          0.055118948735970015,
          0.05611727328465526,
          0.07540609453845194,
          0.08938566582066466,
          -0.004768724366232033,
          -0.07813548837148085,
          -0.03039267451195961,
          null,
          null
         ],
         "yaxis": "y"
        },
        {
         "hovertemplate": "Ratios=ROA<br>DATE=%{x}<br>Ratio Values=%{y}<extra></extra>",
         "legendgroup": "ROA",
         "line": {
          "color": "#EF553B",
          "dash": "solid"
         },
         "marker": {
          "symbol": "circle"
         },
         "mode": "lines+markers",
         "name": "ROA",
         "orientation": "v",
         "showlegend": true,
         "type": "scatter",
         "x": [
          "2008-12-31T00:00:00",
          "2009-12-31T00:00:00",
          "2010-12-31T00:00:00",
          "2011-12-31T00:00:00",
          "2012-12-31T00:00:00",
          "2013-12-31T00:00:00",
          "2014-12-31T00:00:00",
          "2015-12-31T00:00:00",
          "2016-12-31T00:00:00",
          "2017-12-31T00:00:00",
          "2018-12-31T00:00:00",
          "2019-12-31T00:00:00",
          "2020-12-31T00:00:00",
          "2021-12-31T00:00:00",
          "2007-12-31T00:00:00",
          "2022-12-31T00:00:00"
         ],
         "xaxis": "x",
         "y": [
          0.04968482121274103,
          0.02114321628285498,
          0.04823160504630643,
          0.05023379091340985,
          0.04387149028077754,
          0.04948037512275666,
          0.058608925861753536,
          0.05482586221506652,
          0.055935197839927994,
          0.07527455901461348,
          0.08912823047231146,
          -0.004759588400374181,
          -0.07804201503917547,
          -0.030327963508285698,
          null,
          null
         ],
         "yaxis": "y"
        }
       ],
       "layout": {
        "hovermode": "x unified",
        "legend": {
         "title": {
          "text": "Ratios"
         },
         "tracegroupgap": 0
        },
        "template": {
         "data": {
          "bar": [
           {
            "error_x": {
             "color": "#2a3f5f"
            },
            "error_y": {
             "color": "#2a3f5f"
            },
            "marker": {
             "line": {
              "color": "#E5ECF6",
              "width": 0.5
             },
             "pattern": {
              "fillmode": "overlay",
              "size": 10,
              "solidity": 0.2
             }
            },
            "type": "bar"
           }
          ],
          "barpolar": [
           {
            "marker": {
             "line": {
              "color": "#E5ECF6",
              "width": 0.5
             },
             "pattern": {
              "fillmode": "overlay",
              "size": 10,
              "solidity": 0.2
             }
            },
            "type": "barpolar"
           }
          ],
          "carpet": [
           {
            "aaxis": {
             "endlinecolor": "#2a3f5f",
             "gridcolor": "white",
             "linecolor": "white",
             "minorgridcolor": "white",
             "startlinecolor": "#2a3f5f"
            },
            "baxis": {
             "endlinecolor": "#2a3f5f",
             "gridcolor": "white",
             "linecolor": "white",
             "minorgridcolor": "white",
             "startlinecolor": "#2a3f5f"
            },
            "type": "carpet"
           }
          ],
          "choropleth": [
           {
            "colorbar": {
             "outlinewidth": 0,
             "ticks": ""
            },
            "type": "choropleth"
           }
          ],
          "contour": [
           {
            "colorbar": {
             "outlinewidth": 0,
             "ticks": ""
            },
            "colorscale": [
             [
              0,
              "#0d0887"
             ],
             [
              0.1111111111111111,
              "#46039f"
             ],
             [
              0.2222222222222222,
              "#7201a8"
             ],
             [
              0.3333333333333333,
              "#9c179e"
             ],
             [
              0.4444444444444444,
              "#bd3786"
             ],
             [
              0.5555555555555556,
              "#d8576b"
             ],
             [
              0.6666666666666666,
              "#ed7953"
             ],
             [
              0.7777777777777778,
              "#fb9f3a"
             ],
             [
              0.8888888888888888,
              "#fdca26"
             ],
             [
              1,
              "#f0f921"
             ]
            ],
            "type": "contour"
           }
          ],
          "contourcarpet": [
           {
            "colorbar": {
             "outlinewidth": 0,
             "ticks": ""
            },
            "type": "contourcarpet"
           }
          ],
          "heatmap": [
           {
            "colorbar": {
             "outlinewidth": 0,
             "ticks": ""
            },
            "colorscale": [
             [
              0,
              "#0d0887"
             ],
             [
              0.1111111111111111,
              "#46039f"
             ],
             [
              0.2222222222222222,
              "#7201a8"
             ],
             [
              0.3333333333333333,
              "#9c179e"
             ],
             [
              0.4444444444444444,
              "#bd3786"
             ],
             [
              0.5555555555555556,
              "#d8576b"
             ],
             [
              0.6666666666666666,
              "#ed7953"
             ],
             [
              0.7777777777777778,
              "#fb9f3a"
             ],
             [
              0.8888888888888888,
              "#fdca26"
             ],
             [
              1,
              "#f0f921"
             ]
            ],
            "type": "heatmap"
           }
          ],
          "heatmapgl": [
           {
            "colorbar": {
             "outlinewidth": 0,
             "ticks": ""
            },
            "colorscale": [
             [
              0,
              "#0d0887"
             ],
             [
              0.1111111111111111,
              "#46039f"
             ],
             [
              0.2222222222222222,
              "#7201a8"
             ],
             [
              0.3333333333333333,
              "#9c179e"
             ],
             [
              0.4444444444444444,
              "#bd3786"
             ],
             [
              0.5555555555555556,
              "#d8576b"
             ],
             [
              0.6666666666666666,
              "#ed7953"
             ],
             [
              0.7777777777777778,
              "#fb9f3a"
             ],
             [
              0.8888888888888888,
              "#fdca26"
             ],
             [
              1,
              "#f0f921"
             ]
            ],
            "type": "heatmapgl"
           }
          ],
          "histogram": [
           {
            "marker": {
             "pattern": {
              "fillmode": "overlay",
              "size": 10,
              "solidity": 0.2
             }
            },
            "type": "histogram"
           }
          ],
          "histogram2d": [
           {
            "colorbar": {
             "outlinewidth": 0,
             "ticks": ""
            },
            "colorscale": [
             [
              0,
              "#0d0887"
             ],
             [
              0.1111111111111111,
              "#46039f"
             ],
             [
              0.2222222222222222,
              "#7201a8"
             ],
             [
              0.3333333333333333,
              "#9c179e"
             ],
             [
              0.4444444444444444,
              "#bd3786"
             ],
             [
              0.5555555555555556,
              "#d8576b"
             ],
             [
              0.6666666666666666,
              "#ed7953"
             ],
             [
              0.7777777777777778,
              "#fb9f3a"
             ],
             [
              0.8888888888888888,
              "#fdca26"
             ],
             [
              1,
              "#f0f921"
             ]
            ],
            "type": "histogram2d"
           }
          ],
          "histogram2dcontour": [
           {
            "colorbar": {
             "outlinewidth": 0,
             "ticks": ""
            },
            "colorscale": [
             [
              0,
              "#0d0887"
             ],
             [
              0.1111111111111111,
              "#46039f"
             ],
             [
              0.2222222222222222,
              "#7201a8"
             ],
             [
              0.3333333333333333,
              "#9c179e"
             ],
             [
              0.4444444444444444,
              "#bd3786"
             ],
             [
              0.5555555555555556,
              "#d8576b"
             ],
             [
              0.6666666666666666,
              "#ed7953"
             ],
             [
              0.7777777777777778,
              "#fb9f3a"
             ],
             [
              0.8888888888888888,
              "#fdca26"
             ],
             [
              1,
              "#f0f921"
             ]
            ],
            "type": "histogram2dcontour"
           }
          ],
          "mesh3d": [
           {
            "colorbar": {
             "outlinewidth": 0,
             "ticks": ""
            },
            "type": "mesh3d"
           }
          ],
          "parcoords": [
           {
            "line": {
             "colorbar": {
              "outlinewidth": 0,
              "ticks": ""
             }
            },
            "type": "parcoords"
           }
          ],
          "pie": [
           {
            "automargin": true,
            "type": "pie"
           }
          ],
          "scatter": [
           {
            "fillpattern": {
             "fillmode": "overlay",
             "size": 10,
             "solidity": 0.2
            },
            "type": "scatter"
           }
          ],
          "scatter3d": [
           {
            "line": {
             "colorbar": {
              "outlinewidth": 0,
              "ticks": ""
             }
            },
            "marker": {
             "colorbar": {
              "outlinewidth": 0,
              "ticks": ""
             }
            },
            "type": "scatter3d"
           }
          ],
          "scattercarpet": [
           {
            "marker": {
             "colorbar": {
              "outlinewidth": 0,
              "ticks": ""
             }
            },
            "type": "scattercarpet"
           }
          ],
          "scattergeo": [
           {
            "marker": {
             "colorbar": {
              "outlinewidth": 0,
              "ticks": ""
             }
            },
            "type": "scattergeo"
           }
          ],
          "scattergl": [
           {
            "marker": {
             "colorbar": {
              "outlinewidth": 0,
              "ticks": ""
             }
            },
            "type": "scattergl"
           }
          ],
          "scattermapbox": [
           {
            "marker": {
             "colorbar": {
              "outlinewidth": 0,
              "ticks": ""
             }
            },
            "type": "scattermapbox"
           }
          ],
          "scatterpolar": [
           {
            "marker": {
             "colorbar": {
              "outlinewidth": 0,
              "ticks": ""
             }
            },
            "type": "scatterpolar"
           }
          ],
          "scatterpolargl": [
           {
            "marker": {
             "colorbar": {
              "outlinewidth": 0,
              "ticks": ""
             }
            },
            "type": "scatterpolargl"
           }
          ],
          "scatterternary": [
           {
            "marker": {
             "colorbar": {
              "outlinewidth": 0,
              "ticks": ""
             }
            },
            "type": "scatterternary"
           }
          ],
          "surface": [
           {
            "colorbar": {
             "outlinewidth": 0,
             "ticks": ""
            },
            "colorscale": [
             [
              0,
              "#0d0887"
             ],
             [
              0.1111111111111111,
              "#46039f"
             ],
             [
              0.2222222222222222,
              "#7201a8"
             ],
             [
              0.3333333333333333,
              "#9c179e"
             ],
             [
              0.4444444444444444,
              "#bd3786"
             ],
             [
              0.5555555555555556,
              "#d8576b"
             ],
             [
              0.6666666666666666,
              "#ed7953"
             ],
             [
              0.7777777777777778,
              "#fb9f3a"
             ],
             [
              0.8888888888888888,
              "#fdca26"
             ],
             [
              1,
              "#f0f921"
             ]
            ],
            "type": "surface"
           }
          ],
          "table": [
           {
            "cells": {
             "fill": {
              "color": "#EBF0F8"
             },
             "line": {
              "color": "white"
             }
            },
            "header": {
             "fill": {
              "color": "#C8D4E3"
             },
             "line": {
              "color": "white"
             }
            },
            "type": "table"
           }
          ]
         },
         "layout": {
          "annotationdefaults": {
           "arrowcolor": "#2a3f5f",
           "arrowhead": 0,
           "arrowwidth": 1
          },
          "autotypenumbers": "strict",
          "coloraxis": {
           "colorbar": {
            "outlinewidth": 0,
            "ticks": ""
           }
          },
          "colorscale": {
           "diverging": [
            [
             0,
             "#8e0152"
            ],
            [
             0.1,
             "#c51b7d"
            ],
            [
             0.2,
             "#de77ae"
            ],
            [
             0.3,
             "#f1b6da"
            ],
            [
             0.4,
             "#fde0ef"
            ],
            [
             0.5,
             "#f7f7f7"
            ],
            [
             0.6,
             "#e6f5d0"
            ],
            [
             0.7,
             "#b8e186"
            ],
            [
             0.8,
             "#7fbc41"
            ],
            [
             0.9,
             "#4d9221"
            ],
            [
             1,
             "#276419"
            ]
           ],
           "sequential": [
            [
             0,
             "#0d0887"
            ],
            [
             0.1111111111111111,
             "#46039f"
            ],
            [
             0.2222222222222222,
             "#7201a8"
            ],
            [
             0.3333333333333333,
             "#9c179e"
            ],
            [
             0.4444444444444444,
             "#bd3786"
            ],
            [
             0.5555555555555556,
             "#d8576b"
            ],
            [
             0.6666666666666666,
             "#ed7953"
            ],
            [
             0.7777777777777778,
             "#fb9f3a"
            ],
            [
             0.8888888888888888,
             "#fdca26"
            ],
            [
             1,
             "#f0f921"
            ]
           ],
           "sequentialminus": [
            [
             0,
             "#0d0887"
            ],
            [
             0.1111111111111111,
             "#46039f"
            ],
            [
             0.2222222222222222,
             "#7201a8"
            ],
            [
             0.3333333333333333,
             "#9c179e"
            ],
            [
             0.4444444444444444,
             "#bd3786"
            ],
            [
             0.5555555555555556,
             "#d8576b"
            ],
            [
             0.6666666666666666,
             "#ed7953"
            ],
            [
             0.7777777777777778,
             "#fb9f3a"
            ],
            [
             0.8888888888888888,
             "#fdca26"
            ],
            [
             1,
             "#f0f921"
            ]
           ]
          },
          "colorway": [
           "#636efa",
           "#EF553B",
           "#00cc96",
           "#ab63fa",
           "#FFA15A",
           "#19d3f3",
           "#FF6692",
           "#B6E880",
           "#FF97FF",
           "#FECB52"
          ],
          "font": {
           "color": "#2a3f5f"
          },
          "geo": {
           "bgcolor": "white",
           "lakecolor": "white",
           "landcolor": "#E5ECF6",
           "showlakes": true,
           "showland": true,
           "subunitcolor": "white"
          },
          "hoverlabel": {
           "align": "left"
          },
          "hovermode": "closest",
          "mapbox": {
           "style": "light"
          },
          "paper_bgcolor": "white",
          "plot_bgcolor": "#E5ECF6",
          "polar": {
           "angularaxis": {
            "gridcolor": "white",
            "linecolor": "white",
            "ticks": ""
           },
           "bgcolor": "#E5ECF6",
           "radialaxis": {
            "gridcolor": "white",
            "linecolor": "white",
            "ticks": ""
           }
          },
          "scene": {
           "xaxis": {
            "backgroundcolor": "#E5ECF6",
            "gridcolor": "white",
            "gridwidth": 2,
            "linecolor": "white",
            "showbackground": true,
            "ticks": "",
            "zerolinecolor": "white"
           },
           "yaxis": {
            "backgroundcolor": "#E5ECF6",
            "gridcolor": "white",
            "gridwidth": 2,
            "linecolor": "white",
            "showbackground": true,
            "ticks": "",
            "zerolinecolor": "white"
           },
           "zaxis": {
            "backgroundcolor": "#E5ECF6",
            "gridcolor": "white",
            "gridwidth": 2,
            "linecolor": "white",
            "showbackground": true,
            "ticks": "",
            "zerolinecolor": "white"
           }
          },
          "shapedefaults": {
           "line": {
            "color": "#2a3f5f"
           }
          },
          "ternary": {
           "aaxis": {
            "gridcolor": "white",
            "linecolor": "white",
            "ticks": ""
           },
           "baxis": {
            "gridcolor": "white",
            "linecolor": "white",
            "ticks": ""
           },
           "bgcolor": "#E5ECF6",
           "caxis": {
            "gridcolor": "white",
            "linecolor": "white",
            "ticks": ""
           }
          },
          "title": {
           "x": 0.05
          },
          "xaxis": {
           "automargin": true,
           "gridcolor": "white",
           "linecolor": "white",
           "ticks": "",
           "title": {
            "standoff": 15
           },
           "zerolinecolor": "white",
           "zerolinewidth": 2
          },
          "yaxis": {
           "automargin": true,
           "gridcolor": "white",
           "linecolor": "white",
           "ticks": "",
           "title": {
            "standoff": 15
           },
           "zerolinecolor": "white",
           "zerolinewidth": 2
          }
         }
        },
        "title": {
         "text": "Interactive ROI and ROA Over Time"
        },
        "xaxis": {
         "anchor": "y",
         "domain": [
          0,
          1
         ],
         "title": {
          "text": "DATE"
         }
        },
        "yaxis": {
         "anchor": "x",
         "domain": [
          0,
          1
         ],
         "title": {
          "text": "Ratio Values"
         }
        }
       }
      }
     },
     "metadata": {},
     "output_type": "display_data"
    }
   ],
   "source": [
    "import plotly.express as px\n",
    "\n",
    "\n",
    "# Plotting ROI and ROA over time \n",
    "fig = px.line(filtered_df, x='DATE', y=['ROI', 'ROA'],\n",
    "              labels={'value': 'Ratio Values', 'variable': 'Ratios'},\n",
    "              title='Interactive ROI and ROA Over Time')\n",
    "\n",
    "# Interactive features\n",
    "fig.update_traces(mode='lines+markers')\n",
    "fig.update_layout(hovermode='x unified')\n",
    "fig.show()\n"
   ]
  }
 ],
 "metadata": {
  "kernelspec": {
   "display_name": "Python 3 (ipykernel)",
   "language": "python",
   "name": "python3"
  },
  "language_info": {
   "codemirror_mode": {
    "name": "ipython",
    "version": 3
   },
   "file_extension": ".py",
   "mimetype": "text/x-python",
   "name": "python",
   "nbconvert_exporter": "python",
   "pygments_lexer": "ipython3",
   "version": "3.11.6"
  }
 },
 "nbformat": 4,
 "nbformat_minor": 5
}
